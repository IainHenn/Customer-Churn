{
  "cells": [
    {
      "cell_type": "code",
      "execution_count": 51,
      "metadata": {
        "id": "WGSFv8yNt7UB"
      },
      "outputs": [],
      "source": [
        "import seaborn as sns\n",
        "import matplotlib.pyplot as plt\n",
        "import plotly.express as px\n",
        "import plotly.graph_objects as go\n",
        "import pandas as pd\n",
        "import numpy as np\n",
        "from scipy.stats import norm, entropy\n",
        "from scipy import stats\n",
        "from scipy.stats import ttest_ind, chi2_contingency"
      ]
    },
    {
      "cell_type": "code",
      "execution_count": 52,
      "metadata": {
        "id": "TqMdlw5if4dq"
      },
      "outputs": [],
      "source": [
        "from scipy.stats import pearsonr as pcr\n",
        "from collections import Counter as counter"
      ]
    },
    {
      "cell_type": "code",
      "execution_count": 53,
      "metadata": {
        "id": "CZJEAl66sAKX"
      },
      "outputs": [],
      "source": [
        "pd.set_option('display.max_columns', None)"
      ]
    },
    {
      "cell_type": "code",
      "execution_count": 54,
      "metadata": {
        "colab": {
          "base_uri": "https://localhost:8080/"
        },
        "id": "4gFcWlaJuTyz",
        "outputId": "1c7522ce-64fb-4917-b0ce-d83478965952"
      },
      "outputs": [
        {
          "data": {
            "text/plain": [
              "Index(['customer_id', 'Name', 'age', 'gender', 'security_no',\n",
              "       'region_category', 'membership_category', 'joining_date',\n",
              "       'joined_through_referral', 'referral_id', 'preferred_offer_types',\n",
              "       'medium_of_operation', 'internet_option', 'last_visit_time',\n",
              "       'days_since_last_login', 'avg_time_spent', 'avg_transaction_value',\n",
              "       'avg_frequency_login_days', 'points_in_wallet', 'used_special_discount',\n",
              "       'offer_application_preference', 'past_complaint', 'complaint_status',\n",
              "       'feedback', 'churn_risk_score'],\n",
              "      dtype='object')"
            ]
          },
          "execution_count": 54,
          "metadata": {},
          "output_type": "execute_result"
        }
      ],
      "source": [
        "data = pd.read_csv(\"train.csv\", header=0)\n",
        "data.columns"
      ]
    },
    {
      "cell_type": "code",
      "execution_count": 55,
      "metadata": {
        "colab": {
          "base_uri": "https://localhost:8080/"
        },
        "id": "K9ZeKd9Lt-eH",
        "outputId": "a2f5c884-27f1-48a0-8205-660383f32122"
      },
      "outputs": [
        {
          "name": "stdout",
          "output_type": "stream",
          "text": [
            "The dimension in the original data is (36992, 25) \n",
            "\n",
            "First 10 rows of the dataset are \n",
            "                             customer_id              Name  age gender  \\\n",
            "0      fffe4300490044003600300030003800   Pattie Morrisey   18      F   \n",
            "1  fffe43004900440032003100300035003700       Traci Peery   32      F   \n",
            "2      fffe4300490044003100390032003600   Merideth Mcmeen   44      F   \n",
            "3  fffe43004900440036003000330031003600  Eufemia Cardwell   37      M   \n",
            "4  fffe43004900440031003900350030003600      Meghan Kosak   31      F   \n",
            "5  fffe43004900440036003300320035003300    Leslie Browder   13      M   \n",
            "6  fffe43004900440031003100360037003900     Bridget Balog   21      M   \n",
            "7      fffe4300490044003800300035003800    Herma Torgeson   42      M   \n",
            "8  fffe43004900440033003300330032003200    Pattie Helmers   44      M   \n",
            "9  fffe43004900440032003000340038003300    Shaquana Leech   45      F   \n",
            "\n",
            "  security_no region_category  membership_category joining_date  \\\n",
            "0     XW0DQ7H         Village  Platinum Membership   2017-08-17   \n",
            "1     5K0N3X1            City   Premium Membership   2017-08-28   \n",
            "2     1F2TCL3            Town        No Membership   2016-11-11   \n",
            "3     VJGJ33N            City        No Membership   2016-10-29   \n",
            "4     SVZXCWB            City        No Membership   2017-09-12   \n",
            "5     PSG1LGF            City      Gold Membership   2016-01-08   \n",
            "6     R3CX1EA            Town      Gold Membership   2015-03-19   \n",
            "7     4UJ1551             NaN        No Membership   2016-07-12   \n",
            "8     0481QNQ         Village    Silver Membership   2016-12-14   \n",
            "9     ZHP4MCR            Town        No Membership   2016-11-30   \n",
            "\n",
            "  joined_through_referral referral_id     preferred_offer_types  \\\n",
            "0                      No    xxxxxxxx     Gift Vouchers/Coupons   \n",
            "1                       ?    CID21329     Gift Vouchers/Coupons   \n",
            "2                     Yes    CID12313     Gift Vouchers/Coupons   \n",
            "3                     Yes     CID3793     Gift Vouchers/Coupons   \n",
            "4                      No    xxxxxxxx  Credit/Debit Card Offers   \n",
            "5                      No    xxxxxxxx     Gift Vouchers/Coupons   \n",
            "6                     Yes    CID24708     Gift Vouchers/Coupons   \n",
            "7                       ?    CID56614  Credit/Debit Card Offers   \n",
            "8                      No    xxxxxxxx            Without Offers   \n",
            "9                      No    xxxxxxxx     Gift Vouchers/Coupons   \n",
            "\n",
            "  medium_of_operation internet_option last_visit_time  days_since_last_login  \\\n",
            "0                   ?           Wi-Fi        16:08:02                     17   \n",
            "1             Desktop     Mobile_Data        12:38:13                     16   \n",
            "2             Desktop           Wi-Fi        22:53:21                     14   \n",
            "3             Desktop     Mobile_Data        15:57:50                     11   \n",
            "4          Smartphone     Mobile_Data        15:46:44                     20   \n",
            "5                   ?           Wi-Fi        06:46:07                     23   \n",
            "6             Desktop     Mobile_Data        11:40:04                     10   \n",
            "7                Both     Fiber_Optic        07:52:43                     19   \n",
            "8          Smartphone     Fiber_Optic        06:50:10                     15   \n",
            "9                   ?           Wi-Fi        19:10:16                     10   \n",
            "\n",
            "   avg_time_spent  avg_transaction_value avg_frequency_login_days  \\\n",
            "0          300.63               53005.25                     17.0   \n",
            "1          306.34               12838.38                     10.0   \n",
            "2          516.16               21027.00                     22.0   \n",
            "3           53.27               25239.56                      6.0   \n",
            "4          113.13               24483.66                     16.0   \n",
            "5          433.62               13884.77                     24.0   \n",
            "6           55.38                8982.50                     28.0   \n",
            "7          429.11               44554.82                     24.0   \n",
            "8          191.07               18362.31                     20.0   \n",
            "9           97.31               19244.16                     28.0   \n",
            "\n",
            "   points_in_wallet used_special_discount offer_application_preference  \\\n",
            "0            781.75                   Yes                          Yes   \n",
            "1               NaN                   Yes                           No   \n",
            "2            500.69                    No                          Yes   \n",
            "3            567.66                    No                          Yes   \n",
            "4            663.06                    No                          Yes   \n",
            "5            722.27                   Yes                           No   \n",
            "6            756.21                   Yes                           No   \n",
            "7            568.08                    No                          Yes   \n",
            "8               NaN                   Yes                           No   \n",
            "9            706.23                    No                          Yes   \n",
            "\n",
            "  past_complaint          complaint_status                  feedback  \\\n",
            "0             No            Not Applicable  Products always in Stock   \n",
            "1            Yes                    Solved     Quality Customer Care   \n",
            "2            Yes       Solved in Follow-up              Poor Website   \n",
            "3            Yes                  Unsolved              Poor Website   \n",
            "4            Yes                    Solved              Poor Website   \n",
            "5            Yes                  Unsolved       No reason specified   \n",
            "6            Yes       Solved in Follow-up       No reason specified   \n",
            "7            Yes                  Unsolved      Poor Product Quality   \n",
            "8            Yes       Solved in Follow-up     Poor Customer Service   \n",
            "9            Yes  No Information Available     Poor Customer Service   \n",
            "\n",
            "   churn_risk_score  \n",
            "0                 2  \n",
            "1                 1  \n",
            "2                 5  \n",
            "3                 5  \n",
            "4                 5  \n",
            "5                 3  \n",
            "6                 3  \n",
            "7                 5  \n",
            "8                 3  \n",
            "9                 4   \n",
            "\n",
            "\n",
            "Summary of the dataset is \n",
            "                 age  days_since_last_login  avg_time_spent  \\\n",
            "count  36992.000000           36992.000000    36992.000000   \n",
            "mean      37.118161             -41.915576      243.472334   \n",
            "std       15.867412             228.819900      398.289149   \n",
            "min       10.000000            -999.000000    -2814.109110   \n",
            "25%       23.000000               8.000000       60.102500   \n",
            "50%       37.000000              12.000000      161.765000   \n",
            "75%       51.000000              16.000000      356.515000   \n",
            "max       64.000000              26.000000     3235.578521   \n",
            "\n",
            "       avg_transaction_value  points_in_wallet  churn_risk_score  \n",
            "count           36992.000000      33549.000000      36992.000000  \n",
            "mean            29271.194003        686.882199          3.463397  \n",
            "std             19444.806226        194.063624          1.409661  \n",
            "min               800.460000       -760.661236         -1.000000  \n",
            "25%             14177.540000        616.150000          3.000000  \n",
            "50%             27554.485000        697.620000          4.000000  \n",
            "75%             40855.110000        763.950000          5.000000  \n",
            "max             99914.050000       2069.069761          5.000000   \n",
            "\n",
            "\n",
            "Statistics of the dataset are \n",
            "                          Feature  Unique_values  Percentage of missing values  \\\n",
            "5                region_category              3                     14.673443   \n",
            "18              points_in_wallet          23699                      9.307418   \n",
            "10         preferred_offer_types              3                      0.778547   \n",
            "0                    customer_id          36992                      0.000000   \n",
            "14         days_since_last_login             27                      0.000000   \n",
            "23                      feedback              9                      0.000000   \n",
            "22              complaint_status              5                      0.000000   \n",
            "21                past_complaint              2                      0.000000   \n",
            "20  offer_application_preference              2                      0.000000   \n",
            "19         used_special_discount              2                      0.000000   \n",
            "17      avg_frequency_login_days           1654                      0.000000   \n",
            "16         avg_transaction_value          36894                      0.000000   \n",
            "15                avg_time_spent          25961                      0.000000   \n",
            "12               internet_option              3                      0.000000   \n",
            "13               last_visit_time          30101                      0.000000   \n",
            "1                           Name          36992                      0.000000   \n",
            "11           medium_of_operation              4                      0.000000   \n",
            "9                    referral_id          11359                      0.000000   \n",
            "8        joined_through_referral              3                      0.000000   \n",
            "7                   joining_date           1096                      0.000000   \n",
            "6            membership_category              6                      0.000000   \n",
            "4                    security_no          36992                      0.000000   \n",
            "3                         gender              3                      0.000000   \n",
            "2                            age             55                      0.000000   \n",
            "24              churn_risk_score              6                      0.000000   \n",
            "\n",
            "    Percentage of values in the biggest category     type  \n",
            "5                                      38.192042   object  \n",
            "18                                      9.307418  float64  \n",
            "10                                     33.382894   object  \n",
            "0                                       0.002703   object  \n",
            "14                                      6.433824    int64  \n",
            "23                                     17.165874   object  \n",
            "22                                     50.286548   object  \n",
            "21                                     50.286548   object  \n",
            "20                                     55.255190   object  \n",
            "19                                     54.990268   object  \n",
            "17                                      9.520978   object  \n",
            "16                                      0.005407  float64  \n",
            "15                                      0.056769  float64  \n",
            "12                                     33.555904   object  \n",
            "13                                      0.016220   object  \n",
            "1                                       0.002703   object  \n",
            "11                                     37.610835   object  \n",
            "9                                      48.242863   object  \n",
            "8                                      42.817366   object  \n",
            "7                                       0.148681   object  \n",
            "6                                      20.880190   object  \n",
            "4                                       0.002703   object  \n",
            "3                                      49.983780   object  \n",
            "2                                       1.946367    int64  \n",
            "24                                     28.179066    int64   \n",
            "\n",
            "\n"
          ]
        }
      ],
      "source": [
        "def understand_df(data):\n",
        "\n",
        "    # Dimensions of dataset\n",
        "    print(f\"The dimension in the original data is {data.shape} \\n\")\n",
        "\n",
        "    # Head of dataset\n",
        "    print(\"First 10 rows of the dataset are \\n\", data.head(10), \"\\n\\n\")\n",
        "\n",
        "    # Summary of dataset\n",
        "    print(\"Summary of the dataset is \\n\", data.describe(), \"\\n\\n\")\n",
        "\n",
        "    # Stats of dataset\n",
        "    stats = []\n",
        "    for col in data.columns:\n",
        "        stats.append((col, data[col].nunique(), data[col].isnull().sum() * 100 / data.shape[0], data[col].value_counts(normalize=True, dropna=False).values[0] * 100, data[col].dtype))\n",
        "\n",
        "    stats_df = pd.DataFrame(stats, columns=['Feature', 'Unique_values', 'Percentage of missing values', 'Percentage of values in the biggest category', 'type'])\n",
        "    print(\"Statistics of the dataset are \\n\", stats_df.sort_values('Percentage of missing values', ascending=False), \"\\n\\n\")\n",
        "\n",
        "understand_df(data)\n",
        "# in order for this to work"
      ]
    },
    {
      "cell_type": "code",
      "execution_count": 56,
      "metadata": {
        "id": "7wyQmtKTucry"
      },
      "outputs": [],
      "source": [
        "def discover_categorical_and_numerical(df):\n",
        "  type_dictionary = {col: (\"categorical\" if df[col].dtype == \"O\" else \"numerical\") for col in df.columns}\n",
        "  categorical = [key for key, val in type_dictionary.items() if val == \"categorical\"]\n",
        "  numerical = df.columns.difference(categorical)\n",
        "  return categorical, numerical"
      ]
    },
    {
      "cell_type": "code",
      "execution_count": 57,
      "metadata": {
        "id": "ynQl-Z5UP-nT"
      },
      "outputs": [],
      "source": [
        "categorical, numerical = discover_categorical_and_numerical(data)"
      ]
    },
    {
      "cell_type": "code",
      "execution_count": 58,
      "metadata": {
        "colab": {
          "base_uri": "https://localhost:8080/"
        },
        "id": "zKgUmw34Saf7",
        "outputId": "5ab14924-7bf7-48e9-9cd2-31315530588b"
      },
      "outputs": [
        {
          "data": {
            "text/plain": [
              "(['customer_id',\n",
              "  'Name',\n",
              "  'gender',\n",
              "  'security_no',\n",
              "  'region_category',\n",
              "  'membership_category',\n",
              "  'joining_date',\n",
              "  'joined_through_referral',\n",
              "  'referral_id',\n",
              "  'preferred_offer_types',\n",
              "  'medium_of_operation',\n",
              "  'internet_option',\n",
              "  'last_visit_time',\n",
              "  'avg_frequency_login_days',\n",
              "  'used_special_discount',\n",
              "  'offer_application_preference',\n",
              "  'past_complaint',\n",
              "  'complaint_status',\n",
              "  'feedback'],\n",
              " Index(['age', 'avg_time_spent', 'avg_transaction_value', 'churn_risk_score',\n",
              "        'days_since_last_login', 'points_in_wallet'],\n",
              "       dtype='object'))"
            ]
          },
          "execution_count": 58,
          "metadata": {},
          "output_type": "execute_result"
        }
      ],
      "source": [
        "categorical, numerical"
      ]
    },
    {
      "cell_type": "code",
      "execution_count": 59,
      "metadata": {
        "colab": {
          "base_uri": "https://localhost:8080/",
          "height": 643
        },
        "id": "o0ILN4u6r2D-",
        "outputId": "49ddc5d9-0691-4412-be10-d6633b334803"
      },
      "outputs": [
        {
          "data": {
            "text/html": [
              "<div>\n",
              "<style scoped>\n",
              "    .dataframe tbody tr th:only-of-type {\n",
              "        vertical-align: middle;\n",
              "    }\n",
              "\n",
              "    .dataframe tbody tr th {\n",
              "        vertical-align: top;\n",
              "    }\n",
              "\n",
              "    .dataframe thead th {\n",
              "        text-align: right;\n",
              "    }\n",
              "</style>\n",
              "<table border=\"1\" class=\"dataframe\">\n",
              "  <thead>\n",
              "    <tr style=\"text-align: right;\">\n",
              "      <th></th>\n",
              "      <th>customer_id</th>\n",
              "      <th>Name</th>\n",
              "      <th>age</th>\n",
              "      <th>gender</th>\n",
              "      <th>security_no</th>\n",
              "      <th>region_category</th>\n",
              "      <th>membership_category</th>\n",
              "      <th>joining_date</th>\n",
              "      <th>joined_through_referral</th>\n",
              "      <th>referral_id</th>\n",
              "      <th>preferred_offer_types</th>\n",
              "      <th>medium_of_operation</th>\n",
              "      <th>internet_option</th>\n",
              "      <th>last_visit_time</th>\n",
              "      <th>days_since_last_login</th>\n",
              "      <th>avg_time_spent</th>\n",
              "      <th>avg_transaction_value</th>\n",
              "      <th>avg_frequency_login_days</th>\n",
              "      <th>points_in_wallet</th>\n",
              "      <th>used_special_discount</th>\n",
              "      <th>offer_application_preference</th>\n",
              "      <th>past_complaint</th>\n",
              "      <th>complaint_status</th>\n",
              "      <th>feedback</th>\n",
              "      <th>churn_risk_score</th>\n",
              "    </tr>\n",
              "  </thead>\n",
              "  <tbody>\n",
              "    <tr>\n",
              "      <th>0</th>\n",
              "      <td>fffe4300490044003600300030003800</td>\n",
              "      <td>Pattie Morrisey</td>\n",
              "      <td>18</td>\n",
              "      <td>F</td>\n",
              "      <td>XW0DQ7H</td>\n",
              "      <td>Village</td>\n",
              "      <td>Platinum Membership</td>\n",
              "      <td>2017-08-17</td>\n",
              "      <td>No</td>\n",
              "      <td>xxxxxxxx</td>\n",
              "      <td>Gift Vouchers/Coupons</td>\n",
              "      <td>?</td>\n",
              "      <td>Wi-Fi</td>\n",
              "      <td>16:08:02</td>\n",
              "      <td>17</td>\n",
              "      <td>300.63</td>\n",
              "      <td>53005.25</td>\n",
              "      <td>17.0</td>\n",
              "      <td>781.75</td>\n",
              "      <td>Yes</td>\n",
              "      <td>Yes</td>\n",
              "      <td>No</td>\n",
              "      <td>Not Applicable</td>\n",
              "      <td>Products always in Stock</td>\n",
              "      <td>2</td>\n",
              "    </tr>\n",
              "    <tr>\n",
              "      <th>1</th>\n",
              "      <td>fffe43004900440032003100300035003700</td>\n",
              "      <td>Traci Peery</td>\n",
              "      <td>32</td>\n",
              "      <td>F</td>\n",
              "      <td>5K0N3X1</td>\n",
              "      <td>City</td>\n",
              "      <td>Premium Membership</td>\n",
              "      <td>2017-08-28</td>\n",
              "      <td>?</td>\n",
              "      <td>CID21329</td>\n",
              "      <td>Gift Vouchers/Coupons</td>\n",
              "      <td>Desktop</td>\n",
              "      <td>Mobile_Data</td>\n",
              "      <td>12:38:13</td>\n",
              "      <td>16</td>\n",
              "      <td>306.34</td>\n",
              "      <td>12838.38</td>\n",
              "      <td>10.0</td>\n",
              "      <td>NaN</td>\n",
              "      <td>Yes</td>\n",
              "      <td>No</td>\n",
              "      <td>Yes</td>\n",
              "      <td>Solved</td>\n",
              "      <td>Quality Customer Care</td>\n",
              "      <td>1</td>\n",
              "    </tr>\n",
              "    <tr>\n",
              "      <th>2</th>\n",
              "      <td>fffe4300490044003100390032003600</td>\n",
              "      <td>Merideth Mcmeen</td>\n",
              "      <td>44</td>\n",
              "      <td>F</td>\n",
              "      <td>1F2TCL3</td>\n",
              "      <td>Town</td>\n",
              "      <td>No Membership</td>\n",
              "      <td>2016-11-11</td>\n",
              "      <td>Yes</td>\n",
              "      <td>CID12313</td>\n",
              "      <td>Gift Vouchers/Coupons</td>\n",
              "      <td>Desktop</td>\n",
              "      <td>Wi-Fi</td>\n",
              "      <td>22:53:21</td>\n",
              "      <td>14</td>\n",
              "      <td>516.16</td>\n",
              "      <td>21027.00</td>\n",
              "      <td>22.0</td>\n",
              "      <td>500.69</td>\n",
              "      <td>No</td>\n",
              "      <td>Yes</td>\n",
              "      <td>Yes</td>\n",
              "      <td>Solved in Follow-up</td>\n",
              "      <td>Poor Website</td>\n",
              "      <td>5</td>\n",
              "    </tr>\n",
              "    <tr>\n",
              "      <th>3</th>\n",
              "      <td>fffe43004900440036003000330031003600</td>\n",
              "      <td>Eufemia Cardwell</td>\n",
              "      <td>37</td>\n",
              "      <td>M</td>\n",
              "      <td>VJGJ33N</td>\n",
              "      <td>City</td>\n",
              "      <td>No Membership</td>\n",
              "      <td>2016-10-29</td>\n",
              "      <td>Yes</td>\n",
              "      <td>CID3793</td>\n",
              "      <td>Gift Vouchers/Coupons</td>\n",
              "      <td>Desktop</td>\n",
              "      <td>Mobile_Data</td>\n",
              "      <td>15:57:50</td>\n",
              "      <td>11</td>\n",
              "      <td>53.27</td>\n",
              "      <td>25239.56</td>\n",
              "      <td>6.0</td>\n",
              "      <td>567.66</td>\n",
              "      <td>No</td>\n",
              "      <td>Yes</td>\n",
              "      <td>Yes</td>\n",
              "      <td>Unsolved</td>\n",
              "      <td>Poor Website</td>\n",
              "      <td>5</td>\n",
              "    </tr>\n",
              "    <tr>\n",
              "      <th>4</th>\n",
              "      <td>fffe43004900440031003900350030003600</td>\n",
              "      <td>Meghan Kosak</td>\n",
              "      <td>31</td>\n",
              "      <td>F</td>\n",
              "      <td>SVZXCWB</td>\n",
              "      <td>City</td>\n",
              "      <td>No Membership</td>\n",
              "      <td>2017-09-12</td>\n",
              "      <td>No</td>\n",
              "      <td>xxxxxxxx</td>\n",
              "      <td>Credit/Debit Card Offers</td>\n",
              "      <td>Smartphone</td>\n",
              "      <td>Mobile_Data</td>\n",
              "      <td>15:46:44</td>\n",
              "      <td>20</td>\n",
              "      <td>113.13</td>\n",
              "      <td>24483.66</td>\n",
              "      <td>16.0</td>\n",
              "      <td>663.06</td>\n",
              "      <td>No</td>\n",
              "      <td>Yes</td>\n",
              "      <td>Yes</td>\n",
              "      <td>Solved</td>\n",
              "      <td>Poor Website</td>\n",
              "      <td>5</td>\n",
              "    </tr>\n",
              "    <tr>\n",
              "      <th>5</th>\n",
              "      <td>fffe43004900440036003300320035003300</td>\n",
              "      <td>Leslie Browder</td>\n",
              "      <td>13</td>\n",
              "      <td>M</td>\n",
              "      <td>PSG1LGF</td>\n",
              "      <td>City</td>\n",
              "      <td>Gold Membership</td>\n",
              "      <td>2016-01-08</td>\n",
              "      <td>No</td>\n",
              "      <td>xxxxxxxx</td>\n",
              "      <td>Gift Vouchers/Coupons</td>\n",
              "      <td>?</td>\n",
              "      <td>Wi-Fi</td>\n",
              "      <td>06:46:07</td>\n",
              "      <td>23</td>\n",
              "      <td>433.62</td>\n",
              "      <td>13884.77</td>\n",
              "      <td>24.0</td>\n",
              "      <td>722.27</td>\n",
              "      <td>Yes</td>\n",
              "      <td>No</td>\n",
              "      <td>Yes</td>\n",
              "      <td>Unsolved</td>\n",
              "      <td>No reason specified</td>\n",
              "      <td>3</td>\n",
              "    </tr>\n",
              "    <tr>\n",
              "      <th>6</th>\n",
              "      <td>fffe43004900440031003100360037003900</td>\n",
              "      <td>Bridget Balog</td>\n",
              "      <td>21</td>\n",
              "      <td>M</td>\n",
              "      <td>R3CX1EA</td>\n",
              "      <td>Town</td>\n",
              "      <td>Gold Membership</td>\n",
              "      <td>2015-03-19</td>\n",
              "      <td>Yes</td>\n",
              "      <td>CID24708</td>\n",
              "      <td>Gift Vouchers/Coupons</td>\n",
              "      <td>Desktop</td>\n",
              "      <td>Mobile_Data</td>\n",
              "      <td>11:40:04</td>\n",
              "      <td>10</td>\n",
              "      <td>55.38</td>\n",
              "      <td>8982.50</td>\n",
              "      <td>28.0</td>\n",
              "      <td>756.21</td>\n",
              "      <td>Yes</td>\n",
              "      <td>No</td>\n",
              "      <td>Yes</td>\n",
              "      <td>Solved in Follow-up</td>\n",
              "      <td>No reason specified</td>\n",
              "      <td>3</td>\n",
              "    </tr>\n",
              "    <tr>\n",
              "      <th>7</th>\n",
              "      <td>fffe4300490044003800300035003800</td>\n",
              "      <td>Herma Torgeson</td>\n",
              "      <td>42</td>\n",
              "      <td>M</td>\n",
              "      <td>4UJ1551</td>\n",
              "      <td>NaN</td>\n",
              "      <td>No Membership</td>\n",
              "      <td>2016-07-12</td>\n",
              "      <td>?</td>\n",
              "      <td>CID56614</td>\n",
              "      <td>Credit/Debit Card Offers</td>\n",
              "      <td>Both</td>\n",
              "      <td>Fiber_Optic</td>\n",
              "      <td>07:52:43</td>\n",
              "      <td>19</td>\n",
              "      <td>429.11</td>\n",
              "      <td>44554.82</td>\n",
              "      <td>24.0</td>\n",
              "      <td>568.08</td>\n",
              "      <td>No</td>\n",
              "      <td>Yes</td>\n",
              "      <td>Yes</td>\n",
              "      <td>Unsolved</td>\n",
              "      <td>Poor Product Quality</td>\n",
              "      <td>5</td>\n",
              "    </tr>\n",
              "    <tr>\n",
              "      <th>8</th>\n",
              "      <td>fffe43004900440033003300330032003200</td>\n",
              "      <td>Pattie Helmers</td>\n",
              "      <td>44</td>\n",
              "      <td>M</td>\n",
              "      <td>0481QNQ</td>\n",
              "      <td>Village</td>\n",
              "      <td>Silver Membership</td>\n",
              "      <td>2016-12-14</td>\n",
              "      <td>No</td>\n",
              "      <td>xxxxxxxx</td>\n",
              "      <td>Without Offers</td>\n",
              "      <td>Smartphone</td>\n",
              "      <td>Fiber_Optic</td>\n",
              "      <td>06:50:10</td>\n",
              "      <td>15</td>\n",
              "      <td>191.07</td>\n",
              "      <td>18362.31</td>\n",
              "      <td>20.0</td>\n",
              "      <td>NaN</td>\n",
              "      <td>Yes</td>\n",
              "      <td>No</td>\n",
              "      <td>Yes</td>\n",
              "      <td>Solved in Follow-up</td>\n",
              "      <td>Poor Customer Service</td>\n",
              "      <td>3</td>\n",
              "    </tr>\n",
              "    <tr>\n",
              "      <th>9</th>\n",
              "      <td>fffe43004900440032003000340038003300</td>\n",
              "      <td>Shaquana Leech</td>\n",
              "      <td>45</td>\n",
              "      <td>F</td>\n",
              "      <td>ZHP4MCR</td>\n",
              "      <td>Town</td>\n",
              "      <td>No Membership</td>\n",
              "      <td>2016-11-30</td>\n",
              "      <td>No</td>\n",
              "      <td>xxxxxxxx</td>\n",
              "      <td>Gift Vouchers/Coupons</td>\n",
              "      <td>?</td>\n",
              "      <td>Wi-Fi</td>\n",
              "      <td>19:10:16</td>\n",
              "      <td>10</td>\n",
              "      <td>97.31</td>\n",
              "      <td>19244.16</td>\n",
              "      <td>28.0</td>\n",
              "      <td>706.23</td>\n",
              "      <td>No</td>\n",
              "      <td>Yes</td>\n",
              "      <td>Yes</td>\n",
              "      <td>No Information Available</td>\n",
              "      <td>Poor Customer Service</td>\n",
              "      <td>4</td>\n",
              "    </tr>\n",
              "  </tbody>\n",
              "</table>\n",
              "</div>"
            ],
            "text/plain": [
              "                            customer_id              Name  age gender  \\\n",
              "0      fffe4300490044003600300030003800   Pattie Morrisey   18      F   \n",
              "1  fffe43004900440032003100300035003700       Traci Peery   32      F   \n",
              "2      fffe4300490044003100390032003600   Merideth Mcmeen   44      F   \n",
              "3  fffe43004900440036003000330031003600  Eufemia Cardwell   37      M   \n",
              "4  fffe43004900440031003900350030003600      Meghan Kosak   31      F   \n",
              "5  fffe43004900440036003300320035003300    Leslie Browder   13      M   \n",
              "6  fffe43004900440031003100360037003900     Bridget Balog   21      M   \n",
              "7      fffe4300490044003800300035003800    Herma Torgeson   42      M   \n",
              "8  fffe43004900440033003300330032003200    Pattie Helmers   44      M   \n",
              "9  fffe43004900440032003000340038003300    Shaquana Leech   45      F   \n",
              "\n",
              "  security_no region_category  membership_category joining_date  \\\n",
              "0     XW0DQ7H         Village  Platinum Membership   2017-08-17   \n",
              "1     5K0N3X1            City   Premium Membership   2017-08-28   \n",
              "2     1F2TCL3            Town        No Membership   2016-11-11   \n",
              "3     VJGJ33N            City        No Membership   2016-10-29   \n",
              "4     SVZXCWB            City        No Membership   2017-09-12   \n",
              "5     PSG1LGF            City      Gold Membership   2016-01-08   \n",
              "6     R3CX1EA            Town      Gold Membership   2015-03-19   \n",
              "7     4UJ1551             NaN        No Membership   2016-07-12   \n",
              "8     0481QNQ         Village    Silver Membership   2016-12-14   \n",
              "9     ZHP4MCR            Town        No Membership   2016-11-30   \n",
              "\n",
              "  joined_through_referral referral_id     preferred_offer_types  \\\n",
              "0                      No    xxxxxxxx     Gift Vouchers/Coupons   \n",
              "1                       ?    CID21329     Gift Vouchers/Coupons   \n",
              "2                     Yes    CID12313     Gift Vouchers/Coupons   \n",
              "3                     Yes     CID3793     Gift Vouchers/Coupons   \n",
              "4                      No    xxxxxxxx  Credit/Debit Card Offers   \n",
              "5                      No    xxxxxxxx     Gift Vouchers/Coupons   \n",
              "6                     Yes    CID24708     Gift Vouchers/Coupons   \n",
              "7                       ?    CID56614  Credit/Debit Card Offers   \n",
              "8                      No    xxxxxxxx            Without Offers   \n",
              "9                      No    xxxxxxxx     Gift Vouchers/Coupons   \n",
              "\n",
              "  medium_of_operation internet_option last_visit_time  days_since_last_login  \\\n",
              "0                   ?           Wi-Fi        16:08:02                     17   \n",
              "1             Desktop     Mobile_Data        12:38:13                     16   \n",
              "2             Desktop           Wi-Fi        22:53:21                     14   \n",
              "3             Desktop     Mobile_Data        15:57:50                     11   \n",
              "4          Smartphone     Mobile_Data        15:46:44                     20   \n",
              "5                   ?           Wi-Fi        06:46:07                     23   \n",
              "6             Desktop     Mobile_Data        11:40:04                     10   \n",
              "7                Both     Fiber_Optic        07:52:43                     19   \n",
              "8          Smartphone     Fiber_Optic        06:50:10                     15   \n",
              "9                   ?           Wi-Fi        19:10:16                     10   \n",
              "\n",
              "   avg_time_spent  avg_transaction_value avg_frequency_login_days  \\\n",
              "0          300.63               53005.25                     17.0   \n",
              "1          306.34               12838.38                     10.0   \n",
              "2          516.16               21027.00                     22.0   \n",
              "3           53.27               25239.56                      6.0   \n",
              "4          113.13               24483.66                     16.0   \n",
              "5          433.62               13884.77                     24.0   \n",
              "6           55.38                8982.50                     28.0   \n",
              "7          429.11               44554.82                     24.0   \n",
              "8          191.07               18362.31                     20.0   \n",
              "9           97.31               19244.16                     28.0   \n",
              "\n",
              "   points_in_wallet used_special_discount offer_application_preference  \\\n",
              "0            781.75                   Yes                          Yes   \n",
              "1               NaN                   Yes                           No   \n",
              "2            500.69                    No                          Yes   \n",
              "3            567.66                    No                          Yes   \n",
              "4            663.06                    No                          Yes   \n",
              "5            722.27                   Yes                           No   \n",
              "6            756.21                   Yes                           No   \n",
              "7            568.08                    No                          Yes   \n",
              "8               NaN                   Yes                           No   \n",
              "9            706.23                    No                          Yes   \n",
              "\n",
              "  past_complaint          complaint_status                  feedback  \\\n",
              "0             No            Not Applicable  Products always in Stock   \n",
              "1            Yes                    Solved     Quality Customer Care   \n",
              "2            Yes       Solved in Follow-up              Poor Website   \n",
              "3            Yes                  Unsolved              Poor Website   \n",
              "4            Yes                    Solved              Poor Website   \n",
              "5            Yes                  Unsolved       No reason specified   \n",
              "6            Yes       Solved in Follow-up       No reason specified   \n",
              "7            Yes                  Unsolved      Poor Product Quality   \n",
              "8            Yes       Solved in Follow-up     Poor Customer Service   \n",
              "9            Yes  No Information Available     Poor Customer Service   \n",
              "\n",
              "   churn_risk_score  \n",
              "0                 2  \n",
              "1                 1  \n",
              "2                 5  \n",
              "3                 5  \n",
              "4                 5  \n",
              "5                 3  \n",
              "6                 3  \n",
              "7                 5  \n",
              "8                 3  \n",
              "9                 4  "
            ]
          },
          "execution_count": 59,
          "metadata": {},
          "output_type": "execute_result"
        }
      ],
      "source": [
        "data.head(10)"
      ]
    },
    {
      "cell_type": "markdown",
      "metadata": {
        "id": "8bBZUL0TVfN6"
      },
      "source": [
        "Clean String"
      ]
    },
    {
      "cell_type": "code",
      "execution_count": 60,
      "metadata": {
        "id": "TaTw_BsSltTt"
      },
      "outputs": [
        {
          "data": {
            "text/html": [
              "<div>\n",
              "<style scoped>\n",
              "    .dataframe tbody tr th:only-of-type {\n",
              "        vertical-align: middle;\n",
              "    }\n",
              "\n",
              "    .dataframe tbody tr th {\n",
              "        vertical-align: top;\n",
              "    }\n",
              "\n",
              "    .dataframe thead th {\n",
              "        text-align: right;\n",
              "    }\n",
              "</style>\n",
              "<table border=\"1\" class=\"dataframe\">\n",
              "  <thead>\n",
              "    <tr style=\"text-align: right;\">\n",
              "      <th></th>\n",
              "      <th>customer_id</th>\n",
              "      <th>Name</th>\n",
              "      <th>age</th>\n",
              "      <th>gender</th>\n",
              "      <th>security_no</th>\n",
              "      <th>region_category</th>\n",
              "      <th>membership_category</th>\n",
              "      <th>joining_date</th>\n",
              "      <th>joined_through_referral</th>\n",
              "      <th>referral_id</th>\n",
              "      <th>preferred_offer_types</th>\n",
              "      <th>medium_of_operation</th>\n",
              "      <th>internet_option</th>\n",
              "      <th>last_visit_time</th>\n",
              "      <th>days_since_last_login</th>\n",
              "      <th>avg_time_spent</th>\n",
              "      <th>avg_transaction_value</th>\n",
              "      <th>avg_frequency_login_days</th>\n",
              "      <th>points_in_wallet</th>\n",
              "      <th>used_special_discount</th>\n",
              "      <th>offer_application_preference</th>\n",
              "      <th>past_complaint</th>\n",
              "      <th>complaint_status</th>\n",
              "      <th>feedback</th>\n",
              "      <th>churn_risk_score</th>\n",
              "    </tr>\n",
              "  </thead>\n",
              "  <tbody>\n",
              "    <tr>\n",
              "      <th>0</th>\n",
              "      <td>fffe4300490044003600300030003800</td>\n",
              "      <td>Pattie Morrisey</td>\n",
              "      <td>18</td>\n",
              "      <td>F</td>\n",
              "      <td>XW0DQ7H</td>\n",
              "      <td>Village</td>\n",
              "      <td>Platinum Membership</td>\n",
              "      <td>2017-08-17</td>\n",
              "      <td>No</td>\n",
              "      <td>xxxxxxxx</td>\n",
              "      <td>Gift Vouchers/Coupons</td>\n",
              "      <td></td>\n",
              "      <td>Wi-Fi</td>\n",
              "      <td>16:08:02</td>\n",
              "      <td>17</td>\n",
              "      <td>300.630000</td>\n",
              "      <td>53005.25</td>\n",
              "      <td>17.0</td>\n",
              "      <td>781.750000</td>\n",
              "      <td>Yes</td>\n",
              "      <td>Yes</td>\n",
              "      <td>No</td>\n",
              "      <td>Not Applicable</td>\n",
              "      <td>Products always in Stock</td>\n",
              "      <td>2</td>\n",
              "    </tr>\n",
              "    <tr>\n",
              "      <th>1</th>\n",
              "      <td>fffe43004900440032003100300035003700</td>\n",
              "      <td>Traci Peery</td>\n",
              "      <td>32</td>\n",
              "      <td>F</td>\n",
              "      <td>5K0N3X1</td>\n",
              "      <td>City</td>\n",
              "      <td>Premium Membership</td>\n",
              "      <td>2017-08-28</td>\n",
              "      <td></td>\n",
              "      <td>CID21329</td>\n",
              "      <td>Gift Vouchers/Coupons</td>\n",
              "      <td>Desktop</td>\n",
              "      <td>Mobile_Data</td>\n",
              "      <td>12:38:13</td>\n",
              "      <td>16</td>\n",
              "      <td>306.340000</td>\n",
              "      <td>12838.38</td>\n",
              "      <td>10.0</td>\n",
              "      <td>NaN</td>\n",
              "      <td>Yes</td>\n",
              "      <td>No</td>\n",
              "      <td>Yes</td>\n",
              "      <td>Solved</td>\n",
              "      <td>Quality Customer Care</td>\n",
              "      <td>1</td>\n",
              "    </tr>\n",
              "    <tr>\n",
              "      <th>2</th>\n",
              "      <td>fffe4300490044003100390032003600</td>\n",
              "      <td>Merideth Mcmeen</td>\n",
              "      <td>44</td>\n",
              "      <td>F</td>\n",
              "      <td>1F2TCL3</td>\n",
              "      <td>Town</td>\n",
              "      <td>No Membership</td>\n",
              "      <td>2016-11-11</td>\n",
              "      <td>Yes</td>\n",
              "      <td>CID12313</td>\n",
              "      <td>Gift Vouchers/Coupons</td>\n",
              "      <td>Desktop</td>\n",
              "      <td>Wi-Fi</td>\n",
              "      <td>22:53:21</td>\n",
              "      <td>14</td>\n",
              "      <td>516.160000</td>\n",
              "      <td>21027.00</td>\n",
              "      <td>22.0</td>\n",
              "      <td>500.690000</td>\n",
              "      <td>No</td>\n",
              "      <td>Yes</td>\n",
              "      <td>Yes</td>\n",
              "      <td>Solved in Follow-up</td>\n",
              "      <td>Poor Website</td>\n",
              "      <td>5</td>\n",
              "    </tr>\n",
              "    <tr>\n",
              "      <th>3</th>\n",
              "      <td>fffe43004900440036003000330031003600</td>\n",
              "      <td>Eufemia Cardwell</td>\n",
              "      <td>37</td>\n",
              "      <td>M</td>\n",
              "      <td>VJGJ33N</td>\n",
              "      <td>City</td>\n",
              "      <td>No Membership</td>\n",
              "      <td>2016-10-29</td>\n",
              "      <td>Yes</td>\n",
              "      <td>CID3793</td>\n",
              "      <td>Gift Vouchers/Coupons</td>\n",
              "      <td>Desktop</td>\n",
              "      <td>Mobile_Data</td>\n",
              "      <td>15:57:50</td>\n",
              "      <td>11</td>\n",
              "      <td>53.270000</td>\n",
              "      <td>25239.56</td>\n",
              "      <td>6.0</td>\n",
              "      <td>567.660000</td>\n",
              "      <td>No</td>\n",
              "      <td>Yes</td>\n",
              "      <td>Yes</td>\n",
              "      <td>Unsolved</td>\n",
              "      <td>Poor Website</td>\n",
              "      <td>5</td>\n",
              "    </tr>\n",
              "    <tr>\n",
              "      <th>4</th>\n",
              "      <td>fffe43004900440031003900350030003600</td>\n",
              "      <td>Meghan Kosak</td>\n",
              "      <td>31</td>\n",
              "      <td>F</td>\n",
              "      <td>SVZXCWB</td>\n",
              "      <td>City</td>\n",
              "      <td>No Membership</td>\n",
              "      <td>2017-09-12</td>\n",
              "      <td>No</td>\n",
              "      <td>xxxxxxxx</td>\n",
              "      <td>Credit/Debit Card Offers</td>\n",
              "      <td>Smartphone</td>\n",
              "      <td>Mobile_Data</td>\n",
              "      <td>15:46:44</td>\n",
              "      <td>20</td>\n",
              "      <td>113.130000</td>\n",
              "      <td>24483.66</td>\n",
              "      <td>16.0</td>\n",
              "      <td>663.060000</td>\n",
              "      <td>No</td>\n",
              "      <td>Yes</td>\n",
              "      <td>Yes</td>\n",
              "      <td>Solved</td>\n",
              "      <td>Poor Website</td>\n",
              "      <td>5</td>\n",
              "    </tr>\n",
              "    <tr>\n",
              "      <th>...</th>\n",
              "      <td>...</td>\n",
              "      <td>...</td>\n",
              "      <td>...</td>\n",
              "      <td>...</td>\n",
              "      <td>...</td>\n",
              "      <td>...</td>\n",
              "      <td>...</td>\n",
              "      <td>...</td>\n",
              "      <td>...</td>\n",
              "      <td>...</td>\n",
              "      <td>...</td>\n",
              "      <td>...</td>\n",
              "      <td>...</td>\n",
              "      <td>...</td>\n",
              "      <td>...</td>\n",
              "      <td>...</td>\n",
              "      <td>...</td>\n",
              "      <td>...</td>\n",
              "      <td>...</td>\n",
              "      <td>...</td>\n",
              "      <td>...</td>\n",
              "      <td>...</td>\n",
              "      <td>...</td>\n",
              "      <td>...</td>\n",
              "      <td>...</td>\n",
              "    </tr>\n",
              "    <tr>\n",
              "      <th>36987</th>\n",
              "      <td>fffe43004900440035003500390036003100</td>\n",
              "      <td>Cuc Tarr</td>\n",
              "      <td>46</td>\n",
              "      <td>F</td>\n",
              "      <td>6F51HFO</td>\n",
              "      <td>NaN</td>\n",
              "      <td>Basic Membership</td>\n",
              "      <td>2017-09-21</td>\n",
              "      <td>No</td>\n",
              "      <td>xxxxxxxx</td>\n",
              "      <td>Credit/Debit Card Offers</td>\n",
              "      <td>Desktop</td>\n",
              "      <td>Wi-Fi</td>\n",
              "      <td>04:14:05</td>\n",
              "      <td>2</td>\n",
              "      <td>-650.682759</td>\n",
              "      <td>27277.68</td>\n",
              "      <td>6.0</td>\n",
              "      <td>639.510000</td>\n",
              "      <td>No</td>\n",
              "      <td>Yes</td>\n",
              "      <td>Yes</td>\n",
              "      <td>No Information Available</td>\n",
              "      <td>No reason specified</td>\n",
              "      <td>4</td>\n",
              "    </tr>\n",
              "    <tr>\n",
              "      <th>36988</th>\n",
              "      <td>fffe43004900440033003500380036003600</td>\n",
              "      <td>Jenni Stronach</td>\n",
              "      <td>29</td>\n",
              "      <td>F</td>\n",
              "      <td>21KSM8Y</td>\n",
              "      <td>Town</td>\n",
              "      <td>Basic Membership</td>\n",
              "      <td>2016-06-27</td>\n",
              "      <td>No</td>\n",
              "      <td>xxxxxxxx</td>\n",
              "      <td>Without Offers</td>\n",
              "      <td>Smartphone</td>\n",
              "      <td>Wi-Fi</td>\n",
              "      <td>23:18:31</td>\n",
              "      <td>13</td>\n",
              "      <td>-638.123421</td>\n",
              "      <td>11069.71</td>\n",
              "      <td>28.0</td>\n",
              "      <td>527.990000</td>\n",
              "      <td>Yes</td>\n",
              "      <td>No</td>\n",
              "      <td>No</td>\n",
              "      <td>Not Applicable</td>\n",
              "      <td>Poor Customer Service</td>\n",
              "      <td>5</td>\n",
              "    </tr>\n",
              "    <tr>\n",
              "      <th>36989</th>\n",
              "      <td>fffe4300490044003500330034003100</td>\n",
              "      <td>Luciana Kinch</td>\n",
              "      <td>23</td>\n",
              "      <td>F</td>\n",
              "      <td>XK1IM9H</td>\n",
              "      <td>NaN</td>\n",
              "      <td>Basic Membership</td>\n",
              "      <td>2016-09-11</td>\n",
              "      <td>Yes</td>\n",
              "      <td>CID3838</td>\n",
              "      <td>Gift Vouchers/Coupons</td>\n",
              "      <td>Desktop</td>\n",
              "      <td>Wi-Fi</td>\n",
              "      <td>03:50:25</td>\n",
              "      <td>12</td>\n",
              "      <td>154.940000</td>\n",
              "      <td>38127.56</td>\n",
              "      <td>Error</td>\n",
              "      <td>680.470000</td>\n",
              "      <td>No</td>\n",
              "      <td>Yes</td>\n",
              "      <td>Yes</td>\n",
              "      <td>Unsolved</td>\n",
              "      <td>Poor Website</td>\n",
              "      <td>4</td>\n",
              "    </tr>\n",
              "    <tr>\n",
              "      <th>36990</th>\n",
              "      <td>fffe43004900440031003200390039003000</td>\n",
              "      <td>Tawana Ardoin</td>\n",
              "      <td>53</td>\n",
              "      <td>M</td>\n",
              "      <td>K6VTP1Z</td>\n",
              "      <td>Village</td>\n",
              "      <td>Platinum Membership</td>\n",
              "      <td>2017-06-15</td>\n",
              "      <td>No</td>\n",
              "      <td>xxxxxxxx</td>\n",
              "      <td>Gift Vouchers/Coupons</td>\n",
              "      <td>Smartphone</td>\n",
              "      <td>Mobile_Data</td>\n",
              "      <td>09:50:03</td>\n",
              "      <td>15</td>\n",
              "      <td>482.610000</td>\n",
              "      <td>2378.86</td>\n",
              "      <td>20.0</td>\n",
              "      <td>197.264414</td>\n",
              "      <td>Yes</td>\n",
              "      <td>Yes</td>\n",
              "      <td>No</td>\n",
              "      <td>Not Applicable</td>\n",
              "      <td>No reason specified</td>\n",
              "      <td>3</td>\n",
              "    </tr>\n",
              "    <tr>\n",
              "      <th>36991</th>\n",
              "      <td>fffe43004900440033003600340034003200</td>\n",
              "      <td>Verlene Beaulieu</td>\n",
              "      <td>35</td>\n",
              "      <td>M</td>\n",
              "      <td>LBX0GLR</td>\n",
              "      <td>Town</td>\n",
              "      <td>Silver Membership</td>\n",
              "      <td>2015-10-23</td>\n",
              "      <td>No</td>\n",
              "      <td>xxxxxxxx</td>\n",
              "      <td>Gift Vouchers/Coupons</td>\n",
              "      <td>Desktop</td>\n",
              "      <td>Mobile_Data</td>\n",
              "      <td>01:39:52</td>\n",
              "      <td>15</td>\n",
              "      <td>79.180000</td>\n",
              "      <td>2189.68</td>\n",
              "      <td>Error</td>\n",
              "      <td>719.970000</td>\n",
              "      <td>Yes</td>\n",
              "      <td>No</td>\n",
              "      <td>No</td>\n",
              "      <td>Not Applicable</td>\n",
              "      <td>Quality Customer Care</td>\n",
              "      <td>2</td>\n",
              "    </tr>\n",
              "  </tbody>\n",
              "</table>\n",
              "<p>36992 rows × 25 columns</p>\n",
              "</div>"
            ],
            "text/plain": [
              "                                customer_id              Name  age gender  \\\n",
              "0          fffe4300490044003600300030003800   Pattie Morrisey   18      F   \n",
              "1      fffe43004900440032003100300035003700       Traci Peery   32      F   \n",
              "2          fffe4300490044003100390032003600   Merideth Mcmeen   44      F   \n",
              "3      fffe43004900440036003000330031003600  Eufemia Cardwell   37      M   \n",
              "4      fffe43004900440031003900350030003600      Meghan Kosak   31      F   \n",
              "...                                     ...               ...  ...    ...   \n",
              "36987  fffe43004900440035003500390036003100          Cuc Tarr   46      F   \n",
              "36988  fffe43004900440033003500380036003600    Jenni Stronach   29      F   \n",
              "36989      fffe4300490044003500330034003100     Luciana Kinch   23      F   \n",
              "36990  fffe43004900440031003200390039003000     Tawana Ardoin   53      M   \n",
              "36991  fffe43004900440033003600340034003200  Verlene Beaulieu   35      M   \n",
              "\n",
              "      security_no region_category  membership_category joining_date  \\\n",
              "0         XW0DQ7H         Village  Platinum Membership   2017-08-17   \n",
              "1         5K0N3X1            City   Premium Membership   2017-08-28   \n",
              "2         1F2TCL3            Town        No Membership   2016-11-11   \n",
              "3         VJGJ33N            City        No Membership   2016-10-29   \n",
              "4         SVZXCWB            City        No Membership   2017-09-12   \n",
              "...           ...             ...                  ...          ...   \n",
              "36987     6F51HFO             NaN     Basic Membership   2017-09-21   \n",
              "36988     21KSM8Y            Town     Basic Membership   2016-06-27   \n",
              "36989     XK1IM9H             NaN     Basic Membership   2016-09-11   \n",
              "36990     K6VTP1Z         Village  Platinum Membership   2017-06-15   \n",
              "36991     LBX0GLR            Town    Silver Membership   2015-10-23   \n",
              "\n",
              "      joined_through_referral referral_id     preferred_offer_types  \\\n",
              "0                          No    xxxxxxxx     Gift Vouchers/Coupons   \n",
              "1                                CID21329     Gift Vouchers/Coupons   \n",
              "2                         Yes    CID12313     Gift Vouchers/Coupons   \n",
              "3                         Yes     CID3793     Gift Vouchers/Coupons   \n",
              "4                          No    xxxxxxxx  Credit/Debit Card Offers   \n",
              "...                       ...         ...                       ...   \n",
              "36987                      No    xxxxxxxx  Credit/Debit Card Offers   \n",
              "36988                      No    xxxxxxxx            Without Offers   \n",
              "36989                     Yes     CID3838     Gift Vouchers/Coupons   \n",
              "36990                      No    xxxxxxxx     Gift Vouchers/Coupons   \n",
              "36991                      No    xxxxxxxx     Gift Vouchers/Coupons   \n",
              "\n",
              "      medium_of_operation internet_option last_visit_time  \\\n",
              "0                                   Wi-Fi        16:08:02   \n",
              "1                 Desktop     Mobile_Data        12:38:13   \n",
              "2                 Desktop           Wi-Fi        22:53:21   \n",
              "3                 Desktop     Mobile_Data        15:57:50   \n",
              "4              Smartphone     Mobile_Data        15:46:44   \n",
              "...                   ...             ...             ...   \n",
              "36987             Desktop           Wi-Fi        04:14:05   \n",
              "36988          Smartphone           Wi-Fi        23:18:31   \n",
              "36989             Desktop           Wi-Fi        03:50:25   \n",
              "36990          Smartphone     Mobile_Data        09:50:03   \n",
              "36991             Desktop     Mobile_Data        01:39:52   \n",
              "\n",
              "       days_since_last_login  avg_time_spent  avg_transaction_value  \\\n",
              "0                         17      300.630000               53005.25   \n",
              "1                         16      306.340000               12838.38   \n",
              "2                         14      516.160000               21027.00   \n",
              "3                         11       53.270000               25239.56   \n",
              "4                         20      113.130000               24483.66   \n",
              "...                      ...             ...                    ...   \n",
              "36987                      2     -650.682759               27277.68   \n",
              "36988                     13     -638.123421               11069.71   \n",
              "36989                     12      154.940000               38127.56   \n",
              "36990                     15      482.610000                2378.86   \n",
              "36991                     15       79.180000                2189.68   \n",
              "\n",
              "      avg_frequency_login_days  points_in_wallet used_special_discount  \\\n",
              "0                         17.0        781.750000                   Yes   \n",
              "1                         10.0               NaN                   Yes   \n",
              "2                         22.0        500.690000                    No   \n",
              "3                          6.0        567.660000                    No   \n",
              "4                         16.0        663.060000                    No   \n",
              "...                        ...               ...                   ...   \n",
              "36987                      6.0        639.510000                    No   \n",
              "36988                     28.0        527.990000                   Yes   \n",
              "36989                    Error        680.470000                    No   \n",
              "36990                     20.0        197.264414                   Yes   \n",
              "36991                    Error        719.970000                   Yes   \n",
              "\n",
              "      offer_application_preference past_complaint          complaint_status  \\\n",
              "0                              Yes             No            Not Applicable   \n",
              "1                               No            Yes                    Solved   \n",
              "2                              Yes            Yes       Solved in Follow-up   \n",
              "3                              Yes            Yes                  Unsolved   \n",
              "4                              Yes            Yes                    Solved   \n",
              "...                            ...            ...                       ...   \n",
              "36987                          Yes            Yes  No Information Available   \n",
              "36988                           No             No            Not Applicable   \n",
              "36989                          Yes            Yes                  Unsolved   \n",
              "36990                          Yes             No            Not Applicable   \n",
              "36991                           No             No            Not Applicable   \n",
              "\n",
              "                       feedback  churn_risk_score  \n",
              "0      Products always in Stock                 2  \n",
              "1         Quality Customer Care                 1  \n",
              "2                  Poor Website                 5  \n",
              "3                  Poor Website                 5  \n",
              "4                  Poor Website                 5  \n",
              "...                         ...               ...  \n",
              "36987       No reason specified                 4  \n",
              "36988     Poor Customer Service                 5  \n",
              "36989              Poor Website                 4  \n",
              "36990       No reason specified                 3  \n",
              "36991     Quality Customer Care                 2  \n",
              "\n",
              "[36992 rows x 25 columns]"
            ]
          },
          "execution_count": 60,
          "metadata": {},
          "output_type": "execute_result"
        }
      ],
      "source": [
        "def clean_string(df:pd.DataFrame, cols:list):\n",
        "    import pandas as pd\n",
        "\n",
        "    # Regular expression pattern to match the special characters to be removed\n",
        "    pattern = r'[!\\?\\$,\\.\\#*_\\+=@\\-]'\n",
        "    # domains = r'\\.(com|gov|ai|org|ca|info)'\n",
        "\n",
        "    for c in cols:\n",
        "        # Check if column exists to avoid errors\n",
        "        if c in df.columns:\n",
        "            # Replace the characters matched by the pattern with an empty string\n",
        "            df[c] = df[c].str.replace(pattern, \"\", regex=True)\n",
        "            if df[c].str.endswith(\"%\").any():\n",
        "              df[c] = df[c].str.replace(\"\\%\", \"\")\n",
        "              df[c].astype(float)\n",
        "            # df[c].replace(domains, \"\", regex=True, inplace=True)\n",
        "    return df\n",
        "\n",
        "clean_string(data,['joined_through_referral','medium_of_operation'])\n",
        "\n",
        "#data.groupby(\"joined_through_referral\").count()"
      ]
    },
    {
      "cell_type": "code",
      "execution_count": 61,
      "metadata": {
        "colab": {
          "base_uri": "https://localhost:8080/",
          "height": 687
        },
        "id": "A2EtfPQiqJ6c",
        "outputId": "e38efbe1-4800-4dd9-cb10-e00eebee4ae6"
      },
      "outputs": [
        {
          "data": {
            "text/html": [
              "<div>\n",
              "<style scoped>\n",
              "    .dataframe tbody tr th:only-of-type {\n",
              "        vertical-align: middle;\n",
              "    }\n",
              "\n",
              "    .dataframe tbody tr th {\n",
              "        vertical-align: top;\n",
              "    }\n",
              "\n",
              "    .dataframe thead th {\n",
              "        text-align: right;\n",
              "    }\n",
              "</style>\n",
              "<table border=\"1\" class=\"dataframe\">\n",
              "  <thead>\n",
              "    <tr style=\"text-align: right;\">\n",
              "      <th></th>\n",
              "      <th>customer_id</th>\n",
              "      <th>Name</th>\n",
              "      <th>age</th>\n",
              "      <th>gender</th>\n",
              "      <th>security_no</th>\n",
              "      <th>region_category</th>\n",
              "      <th>membership_category</th>\n",
              "      <th>joining_date</th>\n",
              "      <th>joined_through_referral</th>\n",
              "      <th>referral_id</th>\n",
              "      <th>preferred_offer_types</th>\n",
              "      <th>medium_of_operation</th>\n",
              "      <th>internet_option</th>\n",
              "      <th>last_visit_time</th>\n",
              "      <th>days_since_last_login</th>\n",
              "      <th>avg_time_spent</th>\n",
              "      <th>avg_transaction_value</th>\n",
              "      <th>avg_frequency_login_days</th>\n",
              "      <th>points_in_wallet</th>\n",
              "      <th>used_special_discount</th>\n",
              "      <th>offer_application_preference</th>\n",
              "      <th>past_complaint</th>\n",
              "      <th>complaint_status</th>\n",
              "      <th>feedback</th>\n",
              "      <th>churn_risk_score</th>\n",
              "    </tr>\n",
              "  </thead>\n",
              "  <tbody>\n",
              "    <tr>\n",
              "      <th>0</th>\n",
              "      <td>fffe4300490044003600300030003800</td>\n",
              "      <td>Pattie Morrisey</td>\n",
              "      <td>18</td>\n",
              "      <td>F</td>\n",
              "      <td>XW0DQ7H</td>\n",
              "      <td>Village</td>\n",
              "      <td>Platinum Membership</td>\n",
              "      <td>20170817</td>\n",
              "      <td>No</td>\n",
              "      <td>xxxxxxxx</td>\n",
              "      <td>Gift Vouchers/Coupons</td>\n",
              "      <td></td>\n",
              "      <td>WiFi</td>\n",
              "      <td>16:08:02</td>\n",
              "      <td>17</td>\n",
              "      <td>300.630000</td>\n",
              "      <td>53005.25</td>\n",
              "      <td>170</td>\n",
              "      <td>781.750000</td>\n",
              "      <td>Yes</td>\n",
              "      <td>Yes</td>\n",
              "      <td>No</td>\n",
              "      <td>Not Applicable</td>\n",
              "      <td>Products always in Stock</td>\n",
              "      <td>2</td>\n",
              "    </tr>\n",
              "    <tr>\n",
              "      <th>1</th>\n",
              "      <td>fffe43004900440032003100300035003700</td>\n",
              "      <td>Traci Peery</td>\n",
              "      <td>32</td>\n",
              "      <td>F</td>\n",
              "      <td>5K0N3X1</td>\n",
              "      <td>City</td>\n",
              "      <td>Premium Membership</td>\n",
              "      <td>20170828</td>\n",
              "      <td></td>\n",
              "      <td>CID21329</td>\n",
              "      <td>Gift Vouchers/Coupons</td>\n",
              "      <td>Desktop</td>\n",
              "      <td>MobileData</td>\n",
              "      <td>12:38:13</td>\n",
              "      <td>16</td>\n",
              "      <td>306.340000</td>\n",
              "      <td>12838.38</td>\n",
              "      <td>100</td>\n",
              "      <td>NaN</td>\n",
              "      <td>Yes</td>\n",
              "      <td>No</td>\n",
              "      <td>Yes</td>\n",
              "      <td>Solved</td>\n",
              "      <td>Quality Customer Care</td>\n",
              "      <td>1</td>\n",
              "    </tr>\n",
              "    <tr>\n",
              "      <th>2</th>\n",
              "      <td>fffe4300490044003100390032003600</td>\n",
              "      <td>Merideth Mcmeen</td>\n",
              "      <td>44</td>\n",
              "      <td>F</td>\n",
              "      <td>1F2TCL3</td>\n",
              "      <td>Town</td>\n",
              "      <td>No Membership</td>\n",
              "      <td>20161111</td>\n",
              "      <td>Yes</td>\n",
              "      <td>CID12313</td>\n",
              "      <td>Gift Vouchers/Coupons</td>\n",
              "      <td>Desktop</td>\n",
              "      <td>WiFi</td>\n",
              "      <td>22:53:21</td>\n",
              "      <td>14</td>\n",
              "      <td>516.160000</td>\n",
              "      <td>21027.00</td>\n",
              "      <td>220</td>\n",
              "      <td>500.690000</td>\n",
              "      <td>No</td>\n",
              "      <td>Yes</td>\n",
              "      <td>Yes</td>\n",
              "      <td>Solved in Followup</td>\n",
              "      <td>Poor Website</td>\n",
              "      <td>5</td>\n",
              "    </tr>\n",
              "    <tr>\n",
              "      <th>3</th>\n",
              "      <td>fffe43004900440036003000330031003600</td>\n",
              "      <td>Eufemia Cardwell</td>\n",
              "      <td>37</td>\n",
              "      <td>M</td>\n",
              "      <td>VJGJ33N</td>\n",
              "      <td>City</td>\n",
              "      <td>No Membership</td>\n",
              "      <td>20161029</td>\n",
              "      <td>Yes</td>\n",
              "      <td>CID3793</td>\n",
              "      <td>Gift Vouchers/Coupons</td>\n",
              "      <td>Desktop</td>\n",
              "      <td>MobileData</td>\n",
              "      <td>15:57:50</td>\n",
              "      <td>11</td>\n",
              "      <td>53.270000</td>\n",
              "      <td>25239.56</td>\n",
              "      <td>60</td>\n",
              "      <td>567.660000</td>\n",
              "      <td>No</td>\n",
              "      <td>Yes</td>\n",
              "      <td>Yes</td>\n",
              "      <td>Unsolved</td>\n",
              "      <td>Poor Website</td>\n",
              "      <td>5</td>\n",
              "    </tr>\n",
              "    <tr>\n",
              "      <th>4</th>\n",
              "      <td>fffe43004900440031003900350030003600</td>\n",
              "      <td>Meghan Kosak</td>\n",
              "      <td>31</td>\n",
              "      <td>F</td>\n",
              "      <td>SVZXCWB</td>\n",
              "      <td>City</td>\n",
              "      <td>No Membership</td>\n",
              "      <td>20170912</td>\n",
              "      <td>No</td>\n",
              "      <td>xxxxxxxx</td>\n",
              "      <td>Credit/Debit Card Offers</td>\n",
              "      <td>Smartphone</td>\n",
              "      <td>MobileData</td>\n",
              "      <td>15:46:44</td>\n",
              "      <td>20</td>\n",
              "      <td>113.130000</td>\n",
              "      <td>24483.66</td>\n",
              "      <td>160</td>\n",
              "      <td>663.060000</td>\n",
              "      <td>No</td>\n",
              "      <td>Yes</td>\n",
              "      <td>Yes</td>\n",
              "      <td>Solved</td>\n",
              "      <td>Poor Website</td>\n",
              "      <td>5</td>\n",
              "    </tr>\n",
              "    <tr>\n",
              "      <th>...</th>\n",
              "      <td>...</td>\n",
              "      <td>...</td>\n",
              "      <td>...</td>\n",
              "      <td>...</td>\n",
              "      <td>...</td>\n",
              "      <td>...</td>\n",
              "      <td>...</td>\n",
              "      <td>...</td>\n",
              "      <td>...</td>\n",
              "      <td>...</td>\n",
              "      <td>...</td>\n",
              "      <td>...</td>\n",
              "      <td>...</td>\n",
              "      <td>...</td>\n",
              "      <td>...</td>\n",
              "      <td>...</td>\n",
              "      <td>...</td>\n",
              "      <td>...</td>\n",
              "      <td>...</td>\n",
              "      <td>...</td>\n",
              "      <td>...</td>\n",
              "      <td>...</td>\n",
              "      <td>...</td>\n",
              "      <td>...</td>\n",
              "      <td>...</td>\n",
              "    </tr>\n",
              "    <tr>\n",
              "      <th>36987</th>\n",
              "      <td>fffe43004900440035003500390036003100</td>\n",
              "      <td>Cuc Tarr</td>\n",
              "      <td>46</td>\n",
              "      <td>F</td>\n",
              "      <td>6F51HFO</td>\n",
              "      <td>NaN</td>\n",
              "      <td>Basic Membership</td>\n",
              "      <td>20170921</td>\n",
              "      <td>No</td>\n",
              "      <td>xxxxxxxx</td>\n",
              "      <td>Credit/Debit Card Offers</td>\n",
              "      <td>Desktop</td>\n",
              "      <td>WiFi</td>\n",
              "      <td>04:14:05</td>\n",
              "      <td>2</td>\n",
              "      <td>-650.682759</td>\n",
              "      <td>27277.68</td>\n",
              "      <td>60</td>\n",
              "      <td>639.510000</td>\n",
              "      <td>No</td>\n",
              "      <td>Yes</td>\n",
              "      <td>Yes</td>\n",
              "      <td>No Information Available</td>\n",
              "      <td>No reason specified</td>\n",
              "      <td>4</td>\n",
              "    </tr>\n",
              "    <tr>\n",
              "      <th>36988</th>\n",
              "      <td>fffe43004900440033003500380036003600</td>\n",
              "      <td>Jenni Stronach</td>\n",
              "      <td>29</td>\n",
              "      <td>F</td>\n",
              "      <td>21KSM8Y</td>\n",
              "      <td>Town</td>\n",
              "      <td>Basic Membership</td>\n",
              "      <td>20160627</td>\n",
              "      <td>No</td>\n",
              "      <td>xxxxxxxx</td>\n",
              "      <td>Without Offers</td>\n",
              "      <td>Smartphone</td>\n",
              "      <td>WiFi</td>\n",
              "      <td>23:18:31</td>\n",
              "      <td>13</td>\n",
              "      <td>-638.123421</td>\n",
              "      <td>11069.71</td>\n",
              "      <td>280</td>\n",
              "      <td>527.990000</td>\n",
              "      <td>Yes</td>\n",
              "      <td>No</td>\n",
              "      <td>No</td>\n",
              "      <td>Not Applicable</td>\n",
              "      <td>Poor Customer Service</td>\n",
              "      <td>5</td>\n",
              "    </tr>\n",
              "    <tr>\n",
              "      <th>36989</th>\n",
              "      <td>fffe4300490044003500330034003100</td>\n",
              "      <td>Luciana Kinch</td>\n",
              "      <td>23</td>\n",
              "      <td>F</td>\n",
              "      <td>XK1IM9H</td>\n",
              "      <td>NaN</td>\n",
              "      <td>Basic Membership</td>\n",
              "      <td>20160911</td>\n",
              "      <td>Yes</td>\n",
              "      <td>CID3838</td>\n",
              "      <td>Gift Vouchers/Coupons</td>\n",
              "      <td>Desktop</td>\n",
              "      <td>WiFi</td>\n",
              "      <td>03:50:25</td>\n",
              "      <td>12</td>\n",
              "      <td>154.940000</td>\n",
              "      <td>38127.56</td>\n",
              "      <td>Error</td>\n",
              "      <td>680.470000</td>\n",
              "      <td>No</td>\n",
              "      <td>Yes</td>\n",
              "      <td>Yes</td>\n",
              "      <td>Unsolved</td>\n",
              "      <td>Poor Website</td>\n",
              "      <td>4</td>\n",
              "    </tr>\n",
              "    <tr>\n",
              "      <th>36990</th>\n",
              "      <td>fffe43004900440031003200390039003000</td>\n",
              "      <td>Tawana Ardoin</td>\n",
              "      <td>53</td>\n",
              "      <td>M</td>\n",
              "      <td>K6VTP1Z</td>\n",
              "      <td>Village</td>\n",
              "      <td>Platinum Membership</td>\n",
              "      <td>20170615</td>\n",
              "      <td>No</td>\n",
              "      <td>xxxxxxxx</td>\n",
              "      <td>Gift Vouchers/Coupons</td>\n",
              "      <td>Smartphone</td>\n",
              "      <td>MobileData</td>\n",
              "      <td>09:50:03</td>\n",
              "      <td>15</td>\n",
              "      <td>482.610000</td>\n",
              "      <td>2378.86</td>\n",
              "      <td>200</td>\n",
              "      <td>197.264414</td>\n",
              "      <td>Yes</td>\n",
              "      <td>Yes</td>\n",
              "      <td>No</td>\n",
              "      <td>Not Applicable</td>\n",
              "      <td>No reason specified</td>\n",
              "      <td>3</td>\n",
              "    </tr>\n",
              "    <tr>\n",
              "      <th>36991</th>\n",
              "      <td>fffe43004900440033003600340034003200</td>\n",
              "      <td>Verlene Beaulieu</td>\n",
              "      <td>35</td>\n",
              "      <td>M</td>\n",
              "      <td>LBX0GLR</td>\n",
              "      <td>Town</td>\n",
              "      <td>Silver Membership</td>\n",
              "      <td>20151023</td>\n",
              "      <td>No</td>\n",
              "      <td>xxxxxxxx</td>\n",
              "      <td>Gift Vouchers/Coupons</td>\n",
              "      <td>Desktop</td>\n",
              "      <td>MobileData</td>\n",
              "      <td>01:39:52</td>\n",
              "      <td>15</td>\n",
              "      <td>79.180000</td>\n",
              "      <td>2189.68</td>\n",
              "      <td>Error</td>\n",
              "      <td>719.970000</td>\n",
              "      <td>Yes</td>\n",
              "      <td>No</td>\n",
              "      <td>No</td>\n",
              "      <td>Not Applicable</td>\n",
              "      <td>Quality Customer Care</td>\n",
              "      <td>2</td>\n",
              "    </tr>\n",
              "  </tbody>\n",
              "</table>\n",
              "<p>36992 rows × 25 columns</p>\n",
              "</div>"
            ],
            "text/plain": [
              "                                customer_id              Name  age gender  \\\n",
              "0          fffe4300490044003600300030003800   Pattie Morrisey   18      F   \n",
              "1      fffe43004900440032003100300035003700       Traci Peery   32      F   \n",
              "2          fffe4300490044003100390032003600   Merideth Mcmeen   44      F   \n",
              "3      fffe43004900440036003000330031003600  Eufemia Cardwell   37      M   \n",
              "4      fffe43004900440031003900350030003600      Meghan Kosak   31      F   \n",
              "...                                     ...               ...  ...    ...   \n",
              "36987  fffe43004900440035003500390036003100          Cuc Tarr   46      F   \n",
              "36988  fffe43004900440033003500380036003600    Jenni Stronach   29      F   \n",
              "36989      fffe4300490044003500330034003100     Luciana Kinch   23      F   \n",
              "36990  fffe43004900440031003200390039003000     Tawana Ardoin   53      M   \n",
              "36991  fffe43004900440033003600340034003200  Verlene Beaulieu   35      M   \n",
              "\n",
              "      security_no region_category  membership_category joining_date  \\\n",
              "0         XW0DQ7H         Village  Platinum Membership     20170817   \n",
              "1         5K0N3X1            City   Premium Membership     20170828   \n",
              "2         1F2TCL3            Town        No Membership     20161111   \n",
              "3         VJGJ33N            City        No Membership     20161029   \n",
              "4         SVZXCWB            City        No Membership     20170912   \n",
              "...           ...             ...                  ...          ...   \n",
              "36987     6F51HFO             NaN     Basic Membership     20170921   \n",
              "36988     21KSM8Y            Town     Basic Membership     20160627   \n",
              "36989     XK1IM9H             NaN     Basic Membership     20160911   \n",
              "36990     K6VTP1Z         Village  Platinum Membership     20170615   \n",
              "36991     LBX0GLR            Town    Silver Membership     20151023   \n",
              "\n",
              "      joined_through_referral referral_id     preferred_offer_types  \\\n",
              "0                          No    xxxxxxxx     Gift Vouchers/Coupons   \n",
              "1                                CID21329     Gift Vouchers/Coupons   \n",
              "2                         Yes    CID12313     Gift Vouchers/Coupons   \n",
              "3                         Yes     CID3793     Gift Vouchers/Coupons   \n",
              "4                          No    xxxxxxxx  Credit/Debit Card Offers   \n",
              "...                       ...         ...                       ...   \n",
              "36987                      No    xxxxxxxx  Credit/Debit Card Offers   \n",
              "36988                      No    xxxxxxxx            Without Offers   \n",
              "36989                     Yes     CID3838     Gift Vouchers/Coupons   \n",
              "36990                      No    xxxxxxxx     Gift Vouchers/Coupons   \n",
              "36991                      No    xxxxxxxx     Gift Vouchers/Coupons   \n",
              "\n",
              "      medium_of_operation internet_option last_visit_time  \\\n",
              "0                                    WiFi        16:08:02   \n",
              "1                 Desktop      MobileData        12:38:13   \n",
              "2                 Desktop            WiFi        22:53:21   \n",
              "3                 Desktop      MobileData        15:57:50   \n",
              "4              Smartphone      MobileData        15:46:44   \n",
              "...                   ...             ...             ...   \n",
              "36987             Desktop            WiFi        04:14:05   \n",
              "36988          Smartphone            WiFi        23:18:31   \n",
              "36989             Desktop            WiFi        03:50:25   \n",
              "36990          Smartphone      MobileData        09:50:03   \n",
              "36991             Desktop      MobileData        01:39:52   \n",
              "\n",
              "       days_since_last_login  avg_time_spent  avg_transaction_value  \\\n",
              "0                         17      300.630000               53005.25   \n",
              "1                         16      306.340000               12838.38   \n",
              "2                         14      516.160000               21027.00   \n",
              "3                         11       53.270000               25239.56   \n",
              "4                         20      113.130000               24483.66   \n",
              "...                      ...             ...                    ...   \n",
              "36987                      2     -650.682759               27277.68   \n",
              "36988                     13     -638.123421               11069.71   \n",
              "36989                     12      154.940000               38127.56   \n",
              "36990                     15      482.610000                2378.86   \n",
              "36991                     15       79.180000                2189.68   \n",
              "\n",
              "      avg_frequency_login_days  points_in_wallet used_special_discount  \\\n",
              "0                          170        781.750000                   Yes   \n",
              "1                          100               NaN                   Yes   \n",
              "2                          220        500.690000                    No   \n",
              "3                           60        567.660000                    No   \n",
              "4                          160        663.060000                    No   \n",
              "...                        ...               ...                   ...   \n",
              "36987                       60        639.510000                    No   \n",
              "36988                      280        527.990000                   Yes   \n",
              "36989                    Error        680.470000                    No   \n",
              "36990                      200        197.264414                   Yes   \n",
              "36991                    Error        719.970000                   Yes   \n",
              "\n",
              "      offer_application_preference past_complaint          complaint_status  \\\n",
              "0                              Yes             No            Not Applicable   \n",
              "1                               No            Yes                    Solved   \n",
              "2                              Yes            Yes        Solved in Followup   \n",
              "3                              Yes            Yes                  Unsolved   \n",
              "4                              Yes            Yes                    Solved   \n",
              "...                            ...            ...                       ...   \n",
              "36987                          Yes            Yes  No Information Available   \n",
              "36988                           No             No            Not Applicable   \n",
              "36989                          Yes            Yes                  Unsolved   \n",
              "36990                          Yes             No            Not Applicable   \n",
              "36991                           No             No            Not Applicable   \n",
              "\n",
              "                       feedback  churn_risk_score  \n",
              "0      Products always in Stock                 2  \n",
              "1         Quality Customer Care                 1  \n",
              "2                  Poor Website                 5  \n",
              "3                  Poor Website                 5  \n",
              "4                  Poor Website                 5  \n",
              "...                         ...               ...  \n",
              "36987       No reason specified                 4  \n",
              "36988     Poor Customer Service                 5  \n",
              "36989              Poor Website                 4  \n",
              "36990       No reason specified                 3  \n",
              "36991     Quality Customer Care                 2  \n",
              "\n",
              "[36992 rows x 25 columns]"
            ]
          },
          "execution_count": 61,
          "metadata": {},
          "output_type": "execute_result"
        }
      ],
      "source": [
        "# Commenting out function calls as per instructions\n",
        "# Example usage:\n",
        "# import pandas as pd\n",
        "# data = {'name': ['Anna!#', 'Bob@$', 'Charlie*+=']}\n",
        "# df = pd.DataFrame(data)\n",
        "df = clean_string(data, categorical)\n",
        "df\n",
        "# print(cleaned_df)"
      ]
    },
    {
      "cell_type": "markdown",
      "metadata": {
        "id": "vT0qA7gxHep-"
      },
      "source": [
        "What variables are potentially non-factors?\n",
        "\n",
        "Upon initial look, customer ID and security_no do not contribute to risk_churn_scores, so we can safely delete them."
      ]
    },
    {
      "cell_type": "code",
      "execution_count": 62,
      "metadata": {
        "colab": {
          "base_uri": "https://localhost:8080/",
          "height": 206
        },
        "id": "c-sEDI7hVrUE",
        "outputId": "70063e4e-d314-423c-ccd3-41fdfd1b9e4e"
      },
      "outputs": [
        {
          "data": {
            "text/html": [
              "<div>\n",
              "<style scoped>\n",
              "    .dataframe tbody tr th:only-of-type {\n",
              "        vertical-align: middle;\n",
              "    }\n",
              "\n",
              "    .dataframe tbody tr th {\n",
              "        vertical-align: top;\n",
              "    }\n",
              "\n",
              "    .dataframe thead th {\n",
              "        text-align: right;\n",
              "    }\n",
              "</style>\n",
              "<table border=\"1\" class=\"dataframe\">\n",
              "  <thead>\n",
              "    <tr style=\"text-align: right;\">\n",
              "      <th></th>\n",
              "      <th>column</th>\n",
              "      <th>tf</th>\n",
              "    </tr>\n",
              "  </thead>\n",
              "  <tbody>\n",
              "    <tr>\n",
              "      <th>0</th>\n",
              "      <td>customer_id</td>\n",
              "      <td>False</td>\n",
              "    </tr>\n",
              "    <tr>\n",
              "      <th>1</th>\n",
              "      <td>Name</td>\n",
              "      <td>False</td>\n",
              "    </tr>\n",
              "    <tr>\n",
              "      <th>2</th>\n",
              "      <td>age</td>\n",
              "      <td>False</td>\n",
              "    </tr>\n",
              "    <tr>\n",
              "      <th>3</th>\n",
              "      <td>gender</td>\n",
              "      <td>False</td>\n",
              "    </tr>\n",
              "    <tr>\n",
              "      <th>4</th>\n",
              "      <td>security_no</td>\n",
              "      <td>False</td>\n",
              "    </tr>\n",
              "  </tbody>\n",
              "</table>\n",
              "</div>"
            ],
            "text/plain": [
              "        column     tf\n",
              "0  customer_id  False\n",
              "1         Name  False\n",
              "2          age  False\n",
              "3       gender  False\n",
              "4  security_no  False"
            ]
          },
          "execution_count": 62,
          "metadata": {},
          "output_type": "execute_result"
        }
      ],
      "source": [
        "nulls = data.isna().any().to_frame().reset_index().rename(columns={'index': 'column', 0: 'tf'})\n",
        "nulls.head()"
      ]
    },
    {
      "cell_type": "code",
      "execution_count": 63,
      "metadata": {
        "colab": {
          "base_uri": "https://localhost:8080/"
        },
        "id": "MkrSbzhzWLl4",
        "outputId": "a77ccbf7-2e00-4edf-91fb-3df0acb86031"
      },
      "outputs": [
        {
          "data": {
            "text/plain": [
              "array([0, 0, 0, 0, 0, 1, 0, 0, 0, 0, 1, 0, 0, 0, 0, 0, 0, 0, 1, 0, 0, 0,\n",
              "       0, 0, 0])"
            ]
          },
          "execution_count": 63,
          "metadata": {},
          "output_type": "execute_result"
        }
      ],
      "source": [
        "null_indices = np.where(nulls[\"tf\"]==True, 1, 0)\n",
        "null_indices"
      ]
    },
    {
      "cell_type": "markdown",
      "metadata": {
        "id": "w4PEkwrnVrUq"
      },
      "source": [
        "Using a series of true and false to subset"
      ]
    },
    {
      "cell_type": "code",
      "execution_count": 64,
      "metadata": {
        "colab": {
          "base_uri": "https://localhost:8080/"
        },
        "id": "DdhY58NgXUuq",
        "outputId": "dc895ef7-e3ac-423b-ddc7-5ba1b74cc951"
      },
      "outputs": [
        {
          "data": {
            "text/plain": [
              "Index(['region_category', 'preferred_offer_types', 'points_in_wallet'], dtype='object')"
            ]
          },
          "execution_count": 64,
          "metadata": {},
          "output_type": "execute_result"
        }
      ],
      "source": [
        "data.columns[nulls[\"tf\"]]"
      ]
    },
    {
      "cell_type": "code",
      "execution_count": 65,
      "metadata": {
        "colab": {
          "base_uri": "https://localhost:8080/",
          "height": 206
        },
        "id": "JeyH9vjaW_h3",
        "outputId": "f349a7cf-b3b3-47f4-c926-ef67b4bc1a6f"
      },
      "outputs": [
        {
          "data": {
            "text/html": [
              "<div>\n",
              "<style scoped>\n",
              "    .dataframe tbody tr th:only-of-type {\n",
              "        vertical-align: middle;\n",
              "    }\n",
              "\n",
              "    .dataframe tbody tr th {\n",
              "        vertical-align: top;\n",
              "    }\n",
              "\n",
              "    .dataframe thead th {\n",
              "        text-align: right;\n",
              "    }\n",
              "</style>\n",
              "<table border=\"1\" class=\"dataframe\">\n",
              "  <thead>\n",
              "    <tr style=\"text-align: right;\">\n",
              "      <th></th>\n",
              "      <th>column</th>\n",
              "      <th>tf</th>\n",
              "    </tr>\n",
              "  </thead>\n",
              "  <tbody>\n",
              "    <tr>\n",
              "      <th>0</th>\n",
              "      <td>customer_id</td>\n",
              "      <td>False</td>\n",
              "    </tr>\n",
              "    <tr>\n",
              "      <th>1</th>\n",
              "      <td>Name</td>\n",
              "      <td>False</td>\n",
              "    </tr>\n",
              "    <tr>\n",
              "      <th>2</th>\n",
              "      <td>age</td>\n",
              "      <td>False</td>\n",
              "    </tr>\n",
              "    <tr>\n",
              "      <th>3</th>\n",
              "      <td>gender</td>\n",
              "      <td>False</td>\n",
              "    </tr>\n",
              "    <tr>\n",
              "      <th>4</th>\n",
              "      <td>security_no</td>\n",
              "      <td>False</td>\n",
              "    </tr>\n",
              "  </tbody>\n",
              "</table>\n",
              "</div>"
            ],
            "text/plain": [
              "        column     tf\n",
              "0  customer_id  False\n",
              "1         Name  False\n",
              "2          age  False\n",
              "3       gender  False\n",
              "4  security_no  False"
            ]
          },
          "execution_count": 65,
          "metadata": {},
          "output_type": "execute_result"
        }
      ],
      "source": [
        "nulls = data.isna().any().to_frame().reset_index().rename(columns={'index': 'column', 0: 'tf'})\n",
        "nulls.head()"
      ]
    },
    {
      "cell_type": "code",
      "execution_count": 66,
      "metadata": {
        "id": "F0D_8B2Se5Op"
      },
      "outputs": [],
      "source": [
        "def plot_correlation_matrix(df, dependent, numerical):\n",
        "    # Compute the correlation matrix\n",
        "    corr = df.corr(numeric_only=True).round(1) #\n",
        "\n",
        "    # Generate a mask for the upper triangle\n",
        "    mask = np.triu(np.ones_like(corr, dtype=bool))\n",
        "\n",
        "    # Set up the matplotlib figure\n",
        "    f, ax = plt.subplots(figsize=(30, 30))\n",
        "\n",
        "    # Generate a custom diverging colormap\n",
        "    cmap = sns.diverging_palette(230, 20, as_cmap=True)\n",
        "    sns.heatmap(corr, mask=mask, cmap=cmap, vmax=.3, center=0, annot=True,\n",
        "                square=True, linewidths=.5, cbar_kws={\"shrink\": .5})\n",
        "\n",
        "    plt.show()\n",
        "\n",
        "    # correlation with the dependent variable\n",
        "    correlations = {n: pcr(df[n], df[dependent]).statistic for n in numerical}\n",
        "    correlations = pd.DataFrame(list(correlations.items()), columns=['Feature', 'Correlation'])\n",
        "    correlations = correlations.sort_values('Correlation', ascending=False)\n",
        "\n",
        "    # weak_corr = correlations[(np.abs(correlations[\"Correlation\"])) < 0.5]\n",
        "    return corr, correlations"
      ]
    },
    {
      "cell_type": "code",
      "execution_count": 67,
      "metadata": {
        "colab": {
          "base_uri": "https://localhost:8080/"
        },
        "id": "Dv8ojX_FafSq",
        "outputId": "9e7f93e6-419f-4082-ec9e-e720ea522f87"
      },
      "outputs": [
        {
          "ename": "ValueError",
          "evalue": "array must not contain infs or NaNs",
          "output_type": "error",
          "traceback": [
            "\u001b[0;31m---------------------------------------------------------------------------\u001b[0m",
            "\u001b[0;31mValueError\u001b[0m                                Traceback (most recent call last)",
            "Cell \u001b[0;32mIn[67], line 1\u001b[0m\n\u001b[0;32m----> 1\u001b[0m correlations \u001b[38;5;241m=\u001b[39m {n: pcr(df[n], df[\u001b[38;5;124m\"\u001b[39m\u001b[38;5;124mchurn_risk_score\u001b[39m\u001b[38;5;124m\"\u001b[39m])\u001b[38;5;241m.\u001b[39mstatistic \u001b[38;5;28;01mfor\u001b[39;00m n \u001b[38;5;129;01min\u001b[39;00m numerical}\n\u001b[1;32m      2\u001b[0m \u001b[38;5;28mlist\u001b[39m(correlations\u001b[38;5;241m.\u001b[39mitems())\n\u001b[1;32m      3\u001b[0m \u001b[38;5;66;03m#correlations = pd.DataFrame(list(correlations.items()), columns=['Feature', 'Correlation'])\u001b[39;00m\n\u001b[1;32m      4\u001b[0m \u001b[38;5;66;03m#correlations\u001b[39;00m\n",
            "Cell \u001b[0;32mIn[67], line 1\u001b[0m, in \u001b[0;36m<dictcomp>\u001b[0;34m(.0)\u001b[0m\n\u001b[0;32m----> 1\u001b[0m correlations \u001b[38;5;241m=\u001b[39m {n: \u001b[43mpcr\u001b[49m\u001b[43m(\u001b[49m\u001b[43mdf\u001b[49m\u001b[43m[\u001b[49m\u001b[43mn\u001b[49m\u001b[43m]\u001b[49m\u001b[43m,\u001b[49m\u001b[43m \u001b[49m\u001b[43mdf\u001b[49m\u001b[43m[\u001b[49m\u001b[38;5;124;43m\"\u001b[39;49m\u001b[38;5;124;43mchurn_risk_score\u001b[39;49m\u001b[38;5;124;43m\"\u001b[39;49m\u001b[43m]\u001b[49m\u001b[43m)\u001b[49m\u001b[38;5;241m.\u001b[39mstatistic \u001b[38;5;28;01mfor\u001b[39;00m n \u001b[38;5;129;01min\u001b[39;00m numerical}\n\u001b[1;32m      2\u001b[0m \u001b[38;5;28mlist\u001b[39m(correlations\u001b[38;5;241m.\u001b[39mitems())\n\u001b[1;32m      3\u001b[0m \u001b[38;5;66;03m#correlations = pd.DataFrame(list(correlations.items()), columns=['Feature', 'Correlation'])\u001b[39;00m\n\u001b[1;32m      4\u001b[0m \u001b[38;5;66;03m#correlations\u001b[39;00m\n",
            "File \u001b[0;32m~/.local/lib/python3.10/site-packages/scipy/stats/_stats_py.py:4793\u001b[0m, in \u001b[0;36mpearsonr\u001b[0;34m(x, y, alternative, method)\u001b[0m\n\u001b[1;32m   4788\u001b[0m ym \u001b[38;5;241m=\u001b[39m y\u001b[38;5;241m.\u001b[39mastype(dtype) \u001b[38;5;241m-\u001b[39m ymean\n\u001b[1;32m   4790\u001b[0m \u001b[38;5;66;03m# Unlike np.linalg.norm or the expression sqrt((xm*xm).sum()),\u001b[39;00m\n\u001b[1;32m   4791\u001b[0m \u001b[38;5;66;03m# scipy.linalg.norm(xm) does not overflow if xm is, for example,\u001b[39;00m\n\u001b[1;32m   4792\u001b[0m \u001b[38;5;66;03m# [-5e210, 5e210, 3e200, -3e200]\u001b[39;00m\n\u001b[0;32m-> 4793\u001b[0m normxm \u001b[38;5;241m=\u001b[39m \u001b[43mlinalg\u001b[49m\u001b[38;5;241;43m.\u001b[39;49m\u001b[43mnorm\u001b[49m\u001b[43m(\u001b[49m\u001b[43mxm\u001b[49m\u001b[43m)\u001b[49m\n\u001b[1;32m   4794\u001b[0m normym \u001b[38;5;241m=\u001b[39m linalg\u001b[38;5;241m.\u001b[39mnorm(ym)\n\u001b[1;32m   4796\u001b[0m threshold \u001b[38;5;241m=\u001b[39m \u001b[38;5;241m1e-13\u001b[39m\n",
            "File \u001b[0;32m~/.local/lib/python3.10/site-packages/scipy/linalg/_misc.py:146\u001b[0m, in \u001b[0;36mnorm\u001b[0;34m(a, ord, axis, keepdims, check_finite)\u001b[0m\n\u001b[1;32m    144\u001b[0m \u001b[38;5;66;03m# Differs from numpy only in non-finite handling and the use of blas.\u001b[39;00m\n\u001b[1;32m    145\u001b[0m \u001b[38;5;28;01mif\u001b[39;00m check_finite:\n\u001b[0;32m--> 146\u001b[0m     a \u001b[38;5;241m=\u001b[39m \u001b[43mnp\u001b[49m\u001b[38;5;241;43m.\u001b[39;49m\u001b[43masarray_chkfinite\u001b[49m\u001b[43m(\u001b[49m\u001b[43ma\u001b[49m\u001b[43m)\u001b[49m\n\u001b[1;32m    147\u001b[0m \u001b[38;5;28;01melse\u001b[39;00m:\n\u001b[1;32m    148\u001b[0m     a \u001b[38;5;241m=\u001b[39m np\u001b[38;5;241m.\u001b[39masarray(a)\n",
            "File \u001b[0;32m~/.local/lib/python3.10/site-packages/numpy/lib/function_base.py:630\u001b[0m, in \u001b[0;36masarray_chkfinite\u001b[0;34m(a, dtype, order)\u001b[0m\n\u001b[1;32m    628\u001b[0m a \u001b[38;5;241m=\u001b[39m asarray(a, dtype\u001b[38;5;241m=\u001b[39mdtype, order\u001b[38;5;241m=\u001b[39morder)\n\u001b[1;32m    629\u001b[0m \u001b[38;5;28;01mif\u001b[39;00m a\u001b[38;5;241m.\u001b[39mdtype\u001b[38;5;241m.\u001b[39mchar \u001b[38;5;129;01min\u001b[39;00m typecodes[\u001b[38;5;124m'\u001b[39m\u001b[38;5;124mAllFloat\u001b[39m\u001b[38;5;124m'\u001b[39m] \u001b[38;5;129;01mand\u001b[39;00m \u001b[38;5;129;01mnot\u001b[39;00m np\u001b[38;5;241m.\u001b[39misfinite(a)\u001b[38;5;241m.\u001b[39mall():\n\u001b[0;32m--> 630\u001b[0m     \u001b[38;5;28;01mraise\u001b[39;00m \u001b[38;5;167;01mValueError\u001b[39;00m(\n\u001b[1;32m    631\u001b[0m         \u001b[38;5;124m\"\u001b[39m\u001b[38;5;124marray must not contain infs or NaNs\u001b[39m\u001b[38;5;124m\"\u001b[39m)\n\u001b[1;32m    632\u001b[0m \u001b[38;5;28;01mreturn\u001b[39;00m a\n",
            "\u001b[0;31mValueError\u001b[0m: array must not contain infs or NaNs"
          ]
        }
      ],
      "source": [
        "correlations = {n: pcr(df[n], df[\"churn_risk_score\"]).statistic for n in numerical}\n",
        "list(correlations.items())\n",
        "#correlations = pd.DataFrame(list(correlations.items()), columns=['Feature', 'Correlation'])\n",
        "#correlations"
      ]
    },
    {
      "cell_type": "code",
      "execution_count": null,
      "metadata": {
        "colab": {
          "base_uri": "https://localhost:8080/",
          "height": 1000
        },
        "id": "k-bs1JTkWKaN",
        "outputId": "9035439d-8dee-46ec-fd04-7f2627fc9158"
      },
      "outputs": [],
      "source": [
        "corr, correlations = plot_correlation_matrix(df, \"churn_risk_score\", numerical)"
      ]
    },
    {
      "cell_type": "code",
      "execution_count": null,
      "metadata": {
        "colab": {
          "base_uri": "https://localhost:8080/",
          "height": 238
        },
        "id": "j4GE9yJeZ_Mb",
        "outputId": "6f35e299-68ac-41fe-ad94-b5c80d3b0694"
      },
      "outputs": [],
      "source": [
        "correlations"
      ]
    },
    {
      "cell_type": "markdown",
      "metadata": {
        "id": "aT3jHV7KfDaF"
      },
      "source": [
        "Select churn risk score that's not \"-1\"s"
      ]
    },
    {
      "cell_type": "code",
      "execution_count": null,
      "metadata": {
        "colab": {
          "base_uri": "https://localhost:8080/"
        },
        "id": "gkQ1gR0ofNdR",
        "outputId": "f182d6f2-3dda-41b4-803f-2e2e2daad886"
      },
      "outputs": [],
      "source": [
        "data[\"churn_risk_score\"].unique()"
      ]
    },
    {
      "cell_type": "markdown",
      "metadata": {
        "id": "vg4udDdWfqI8"
      },
      "source": [
        "Could replace them but it's better to subset"
      ]
    },
    {
      "cell_type": "code",
      "execution_count": null,
      "metadata": {
        "id": "R40FW3mRfCxQ"
      },
      "outputs": [],
      "source": [
        "# data[\"churn_risk_score\"] = data[\"churn_risk_score\"].replace(-1, 0)"
      ]
    },
    {
      "cell_type": "code",
      "execution_count": null,
      "metadata": {
        "colab": {
          "base_uri": "https://localhost:8080/"
        },
        "id": "cFpnh8QufZfY",
        "outputId": "30d328a7-2348-4404-8ee7-1f57cb8471e7"
      },
      "outputs": [],
      "source": [
        "df = data[data[\"churn_risk_score\"] != -1]\n",
        "df[\"churn_risk_score\"].unique()"
      ]
    },
    {
      "cell_type": "markdown",
      "metadata": {
        "id": "HyqC58R8hrZj"
      },
      "source": [
        "Detect outliers"
      ]
    },
    {
      "cell_type": "code",
      "execution_count": null,
      "metadata": {
        "colab": {
          "base_uri": "https://localhost:8080/"
        },
        "id": "3T6NeC9QT59_",
        "outputId": "c3be468f-fc47-49f1-f085-fc91b96e4b9f"
      },
      "outputs": [],
      "source": [
        "numerical"
      ]
    },
    {
      "cell_type": "code",
      "execution_count": null,
      "metadata": {
        "id": "KQZ9xXpclfU6"
      },
      "outputs": [],
      "source": [
        "def detect_outliers(df, numerical):\n",
        "    for c in numerical:\n",
        "        # Calculate Q1 and Q3\n",
        "        Q1 = df[c].quantile(0.25)\n",
        "        Q3 = df[c].quantile(0.75)\n",
        "        # Calculate Interquartile Range (IQR)\n",
        "        IQR = Q3 - Q1\n",
        "\n",
        "        # Define bounds for outliers\n",
        "        lower_bound = Q1 - 1.5 * IQR\n",
        "        upper_bound = Q3 + 1.5 * IQR\n",
        "        sns.boxplot(df, x=c)\n",
        "        ax = sns.boxplot(y=c, data=df)\n",
        "        plt.axhline(y=lower_bound, color='purple', linestyle='--', label='Lower Bound')\n",
        "        plt.axhline(y=upper_bound, color='purple', linestyle='--', label='Upper Bound')\n",
        "        plt.legend()\n",
        "        plt.show()"
      ]
    },
    {
      "cell_type": "code",
      "execution_count": null,
      "metadata": {
        "colab": {
          "base_uri": "https://localhost:8080/",
          "height": 1000
        },
        "id": "cFIgL3lXmM0W",
        "outputId": "30940479-c31c-4fa5-9917-644805e6fdca"
      },
      "outputs": [],
      "source": [
        "detect_outliers(df, numerical)"
      ]
    },
    {
      "cell_type": "markdown",
      "metadata": {
        "id": "B3d2d2-yqYIR"
      },
      "source": [
        "Distributions (just 1 example)"
      ]
    },
    {
      "cell_type": "code",
      "execution_count": null,
      "metadata": {
        "colab": {
          "base_uri": "https://localhost:8080/",
          "height": 928
        },
        "id": "7vzL8U8qqaIU",
        "outputId": "ec843e88-23a9-4b73-8ad9-6ebeac226fbd"
      },
      "outputs": [],
      "source": [
        "for c in numerical:\n",
        "  sns.displot(data=df, x=c, col=\"churn_risk_score\", kind=\"hist\", kde=True, aspect=1.4, bins=20)"
      ]
    },
    {
      "cell_type": "markdown",
      "metadata": {
        "id": "nCYeB7aMVLuc"
      },
      "source": [
        "Histogram for boxplots"
      ]
    },
    {
      "cell_type": "code",
      "execution_count": null,
      "metadata": {
        "id": "y4BDAd1BVnz3"
      },
      "outputs": [],
      "source": []
    },
    {
      "cell_type": "markdown",
      "metadata": {
        "id": "jQMPV1LKm08C"
      },
      "source": [
        "Instead of removing outliers, we can change them to fit within certain boundaries ———— we won't lose data."
      ]
    },
    {
      "cell_type": "code",
      "execution_count": null,
      "metadata": {
        "id": "7L1-gUFGhtUc"
      },
      "outputs": [],
      "source": [
        "def winsorize_outliers(df):\n",
        "    \"\"\"\n",
        "    Adjusts outliers in the DataFrame using the winsorizing method based on the IQR.\n",
        "\n",
        "    Args:\n",
        "    df (pd.DataFrame): DataFrame containing numerical data.\n",
        "\n",
        "    Returns:\n",
        "    pd.DataFrame: DataFrame with outliers adjusted.\n",
        "    \"\"\"\n",
        "    # Iterate through each column in the DataFrame\n",
        "    for column in df.select_dtypes(include=[np.number]).columns:\n",
        "        # Calculate Q1 and Q3\n",
        "        Q1 = df[column].quantile(0.25)\n",
        "        Q3 = df[column].quantile(0.75)\n",
        "        # Calculate Interquartile Range (IQR)\n",
        "        IQR = Q3 - Q1\n",
        "\n",
        "        # Define bounds for outliers\n",
        "        lower_bound = Q1 - 1.5 * IQR\n",
        "        upper_bound = Q3 + 1.5 * IQR\n",
        "\n",
        "        # Winsorizing outliers\n",
        "        df.loc[:,column] = df[column].clip(lower=lower_bound, upper=upper_bound)\n",
        "\n",
        "    return df"
      ]
    },
    {
      "cell_type": "code",
      "execution_count": null,
      "metadata": {
        "id": "ca5pTCCyhxIu"
      },
      "outputs": [],
      "source": [
        "df = winsorize_outliers(df)"
      ]
    },
    {
      "cell_type": "markdown",
      "metadata": {
        "id": "RUUHKqMKT9dN"
      },
      "source": [
        "Fill Null values"
      ]
    },
    {
      "cell_type": "code",
      "execution_count": null,
      "metadata": {
        "id": "B6jbdAEbgVHy"
      },
      "outputs": [],
      "source": [
        "for c in numerical:\n",
        "  if df[c].isnull().any():\n",
        "    df.loc[:,c] = df[c].fillna(df[c].mean())"
      ]
    },
    {
      "cell_type": "markdown",
      "metadata": {
        "id": "DGuzCE1GjjRr"
      },
      "source": [
        "Explain Variance"
      ]
    },
    {
      "cell_type": "code",
      "execution_count": 69,
      "metadata": {
        "id": "D62d43B0SRIJ"
      },
      "outputs": [],
      "source": [
        "def calculate_entropy(series):\n",
        "    \"\"\"\n",
        "    Calculate the entropy of a Series.\n",
        "\n",
        "    Args:\n",
        "    series (pd.Series): Series for which to calculate the entropy.\n",
        "\n",
        "    Returns:\n",
        "    float: Entropy of the series.\n",
        "    \"\"\"\n",
        "    p = series.value_counts(normalize=True)\n",
        "    entropy = - np.sum(p * np.log2(p))\n",
        "    return entropy\n",
        "\n",
        "def information_gain(df, variable, dependent):\n",
        "    \"\"\"\n",
        "    Calculate the information gain of splitting the dependent variable based on the independent variable.\n",
        "\n",
        "    Args:\n",
        "    df (pd.DataFrame): DataFrame containing the data.\n",
        "    variable (str): Name of the independent variable.\n",
        "    dependent (str): Name of the dependent variable.\n",
        "\n",
        "    Returns:\n",
        "    float: Information gain from the variable.\n",
        "    \"\"\"\n",
        "    # Total entropy before split\n",
        "    total_entropy = calculate_entropy(df[dependent])\n",
        "\n",
        "    # Calculate the weighted entropy of splits\n",
        "    weighted_entropy = 0\n",
        "\n",
        "    for value, subset in df.groupby(variable):\n",
        "        subset_entropy = calculate_entropy(subset[dependent])\n",
        "        weight = len(subset) / len(df)\n",
        "        weighted_entropy += weight * subset_entropy\n",
        "\n",
        "    # Information gain is the total entropy minus the weighted entropy of the splits\n",
        "    return total_entropy - weighted_entropy"
      ]
    },
    {
      "cell_type": "code",
      "execution_count": null,
      "metadata": {
        "id": "7NneTkApBeJk"
      },
      "outputs": [],
      "source": [
        "def top_n_explanatory_vars(df, categorical, dependent, n=None):\n",
        "    \"\"\"\n",
        "    Identifies the top three numerical variables that explain the most variance in the dependent variable\n",
        "    based on information gain for multi-label classification.\n",
        "\n",
        "    Args:\n",
        "    df (pd.DataFrame): DataFrame containing the data.\n",
        "    dependent (str): The name of the dependent variable.\n",
        "\n",
        "    Returns:\n",
        "    list: A list of tuples with the variable names and their corresponding information gains, sorted by information gain.\n",
        "    \"\"\"\n",
        "    results = []\n",
        "\n",
        "    # Filter for numerical columns\n",
        "    # numeric_cols = df[numerical] # df.select_dtypes(include=[np.number]).columns\n",
        "\n",
        "    for c in categorical:\n",
        "        # Calculate information gain for the column\n",
        "        gain = information_gain(df, c, dependent)\n",
        "        results.append((c, gain))\n",
        "\n",
        "    # Sort results by information gain in descending order and return the top n\n",
        "    results = pd.DataFrame(results, columns=[\"variable\", \"information_gain\"])\n",
        "    results.sort_values(by=\"information_gain\", ascending=False)\n",
        "    if n is not None:\n",
        "      return results.iloc[:, n]\n",
        "    else:\n",
        "      return results"
      ]
    },
    {
      "cell_type": "code",
      "execution_count": null,
      "metadata": {
        "colab": {
          "base_uri": "https://localhost:8080/"
        },
        "id": "vnrPQWOzHacV",
        "outputId": "b0cbf7ea-6f46-4ec9-c66e-e732501935cb"
      },
      "outputs": [],
      "source": [
        "categorical"
      ]
    },
    {
      "cell_type": "markdown",
      "metadata": {
        "id": "cVlON8QiIGoB"
      },
      "source": [
        "Take \"gender\" as an example"
      ]
    },
    {
      "cell_type": "code",
      "execution_count": null,
      "metadata": {
        "colab": {
          "base_uri": "https://localhost:8080/"
        },
        "id": "QlP5ffsKPmUJ",
        "outputId": "78793a68-b051-4771-b10b-7e41676f9e84"
      },
      "outputs": [],
      "source": [
        "variable = 'gender'\n",
        "dependent = \"churn_risk_score\"\n",
        "np.sum([df[df[variable] == v][dependent].value_counts(normalize=True) * calculate_entropy(df[df[variable] == v][dependent].value_counts(normalize=True)) / value_counts[v] for v in df[variable].unique()])"
      ]
    },
    {
      "cell_type": "code",
      "execution_count": null,
      "metadata": {
        "colab": {
          "base_uri": "https://localhost:8080/"
        },
        "id": "shQlH846HKdv",
        "outputId": "907166db-d7d3-42b3-b560-17b3907f5b52"
      },
      "outputs": [],
      "source": [
        "information_gain(df, \"gender\", \"churn_risk_score\")"
      ]
    },
    {
      "cell_type": "code",
      "execution_count": 71,
      "metadata": {
        "colab": {
          "base_uri": "https://localhost:8080/"
        },
        "id": "Hp8qzzwuOlp5",
        "outputId": "666724fd-bebe-429e-cdff-8b0ed80336e9"
      },
      "outputs": [
        {
          "data": {
            "text/plain": [
              "0.00018061676600300558"
            ]
          },
          "execution_count": 71,
          "metadata": {},
          "output_type": "execute_result"
        }
      ],
      "source": [
        "information_gain(df, \"internet_option\", \"churn_risk_score\")"
      ]
    },
    {
      "cell_type": "code",
      "execution_count": null,
      "metadata": {
        "colab": {
          "base_uri": "https://localhost:8080/"
        },
        "id": "MDk1RolYRt_u",
        "outputId": "ef389b98-6b4d-4c12-800b-c8319a22c480"
      },
      "outputs": [],
      "source": [
        "information_gain(df, \"region_category\", \"churn_risk_score\")"
      ]
    },
    {
      "cell_type": "code",
      "execution_count": 70,
      "metadata": {},
      "outputs": [
        {
          "data": {
            "text/plain": [
              "1.7229020467613472"
            ]
          },
          "execution_count": 70,
          "metadata": {},
          "output_type": "execute_result"
        }
      ],
      "source": [
        "information_gain(df,\"avg_time_spent\",\"churn_risk_score\")"
      ]
    },
    {
      "cell_type": "code",
      "execution_count": null,
      "metadata": {
        "colab": {
          "base_uri": "https://localhost:8080/"
        },
        "id": "4g-VJXypRPYp",
        "outputId": "ed108f42-4016-4629-fcc4-e9f2d7f70b89"
      },
      "outputs": [],
      "source": [
        "df[\"region_category\"].value_counts().values"
      ]
    },
    {
      "cell_type": "code",
      "execution_count": null,
      "metadata": {
        "colab": {
          "base_uri": "https://localhost:8080/"
        },
        "id": "lxZo_YuKQZxX",
        "outputId": "0f2f9e81-e042-4e56-f0fc-06a0899b611d"
      },
      "outputs": [],
      "source": [
        "[v for v in df.membership_category.unique()]"
      ]
    },
    {
      "cell_type": "code",
      "execution_count": null,
      "metadata": {
        "colab": {
          "base_uri": "https://localhost:8080/"
        },
        "id": "4rfyWVvLOBg5",
        "outputId": "6982bd2d-8524-4813-e970-c1b53b832ccb"
      },
      "outputs": [],
      "source": [
        "information_gain(df, \"membership_category\", \"churn_risk_score\")"
      ]
    },
    {
      "cell_type": "code",
      "execution_count": null,
      "metadata": {
        "id": "b7Ojh3kZ_9i3"
      },
      "outputs": [],
      "source": [
        "# top_n_explanatory_vars(df, categorical, \"churn_risk_score\", n=5)"
      ]
    },
    {
      "cell_type": "code",
      "execution_count": null,
      "metadata": {
        "colab": {
          "base_uri": "https://localhost:8080/"
        },
        "id": "J8pWvkhWwwoO",
        "outputId": "62021253-5e58-4eab-cde0-6a0f04c8256a"
      },
      "outputs": [],
      "source": [
        "df.gender.value_counts()"
      ]
    },
    {
      "cell_type": "code",
      "execution_count": null,
      "metadata": {
        "id": "WccUGhdj_VwI"
      },
      "outputs": [],
      "source": [
        "value_counts = df[\"gender\"].value_counts(normalize=False)\n",
        "variable = \"gender\"\n",
        "dependent = \"churn_risk_score\""
      ]
    },
    {
      "cell_type": "code",
      "execution_count": null,
      "metadata": {
        "colab": {
          "base_uri": "https://localhost:8080/"
        },
        "id": "jFcOX7Udye-u",
        "outputId": "64fdc91b-3a98-4865-f2a8-9ae8e9784594"
      },
      "outputs": [],
      "source": [
        "df[df[variable] == \"M\"][dependent]"
      ]
    },
    {
      "cell_type": "code",
      "execution_count": null,
      "metadata": {
        "colab": {
          "base_uri": "https://localhost:8080/"
        },
        "id": "cbh82tHnzAzj",
        "outputId": "12a450bc-2b7d-4849-b6f5-6277c64086df"
      },
      "outputs": [],
      "source": [
        "df[df[variable] == \"M\"][dependent].value_counts(normalize=True)"
      ]
    },
    {
      "cell_type": "code",
      "execution_count": null,
      "metadata": {
        "colab": {
          "base_uri": "https://localhost:8080/"
        },
        "id": "hLvL3ReNzYFj",
        "outputId": "f6a1d829-fb91-4595-c4c7-af9649188b40"
      },
      "outputs": [],
      "source": [
        "value_counts = df[\"gender\"].value_counts(normalize=False)\n",
        "value_counts"
      ]
    },
    {
      "cell_type": "code",
      "execution_count": null,
      "metadata": {
        "colab": {
          "base_uri": "https://localhost:8080/"
        },
        "id": "QwSoo-rY_OIz",
        "outputId": "5a7fcb31-1255-49b2-c2dd-41fd5f638b57"
      },
      "outputs": [],
      "source": [
        "value_counts[\"M\"]"
      ]
    },
    {
      "cell_type": "code",
      "execution_count": null,
      "metadata": {
        "colab": {
          "base_uri": "https://localhost:8080/"
        },
        "id": "TrcIinIv_YLi",
        "outputId": "9146c858-b955-414c-a16c-573540d47d23"
      },
      "outputs": [],
      "source": [
        "np.sum(df[df[variable] == \"M\"][dependent].value_counts(normalize=True) * calculate_entropy(df[df[variable] == \"M\"][dependent].value_counts(normalize=True)) / value_counts[\"M\"])"
      ]
    },
    {
      "cell_type": "code",
      "execution_count": null,
      "metadata": {
        "colab": {
          "base_uri": "https://localhost:8080/"
        },
        "id": "xn_ac2MswClH",
        "outputId": "2196cfe7-9225-484d-9375-c41a4ea3067e"
      },
      "outputs": [],
      "source": [
        "calculate_entropy(df[df[variable] == \"M\"][dependent].value_counts())\n",
        "#weighted_entropy = {df[df[variable] == v][dependent].value_counts(normalize=True) for v in df[variable].unique()}\n",
        "# weighted_entropy = np.sum((df[df[variable] == v][dependent].value_counts(normalize=True) * calculate_entropy(df[df[variable] == v][dependent]).value_counts(normalize=True) / value_counts) for v in df[variable].unique())\n",
        "# weighted_entropy"
      ]
    },
    {
      "cell_type": "code",
      "execution_count": null,
      "metadata": {
        "colab": {
          "base_uri": "https://localhost:8080/"
        },
        "id": "tNJdlg9lr0hK",
        "outputId": "a85af9f6-1ebf-4d5a-f09a-edfc7c92e98b"
      },
      "outputs": [],
      "source": [
        "information_gain(df, \"gender\", \"churn_risk_score\")"
      ]
    },
    {
      "cell_type": "code",
      "execution_count": null,
      "metadata": {
        "colab": {
          "base_uri": "https://localhost:8080/"
        },
        "id": "ItIdXKTbra1s",
        "outputId": "961e946a-3f3a-43f9-d2a6-73d1f096dcb6"
      },
      "outputs": [],
      "source": [
        "for c in numerical:\n",
        "  print(calculate_entropy(df[c]))"
      ]
    },
    {
      "cell_type": "code",
      "execution_count": null,
      "metadata": {
        "id": "EgXObefArTuS"
      },
      "outputs": [],
      "source": [
        "# hypothesis testing\n",
        "def test_missingness(one, df, explanatory_vars):\n",
        "    \"\"\"\n",
        "    Tests whether the missingness in a specified variable is random or systematic\n",
        "    using t-tests and chi-squared tests.\n",
        "\n",
        "    Args:\n",
        "    df (pd.DataFrame): The DataFrame to analyze.\n",
        "    variable (str): The target variable with potential missing values.\n",
        "    explanatory_vars (list): List of column names in df that might explain missingness.\n",
        "\n",
        "    Returns:\n",
        "    dict: A dictionary containing the test results for each explanatory variable.\n",
        "    \"\"\"\n",
        "    results = {}\n",
        "    # Create a binary column 'is_missing' where 1 indicates missing and 0 indicates not missing\n",
        "    df[f'{one}_is_missing'] = df[one].isnull().astype(int)\n",
        "\n",
        "    for var in explanatory_vars:\n",
        "    #   For numeric explanatory variables, a t-test compares means between groups (missing vs. not missing).\n",
        "    #   For categorical variables, a chi-squared test checks for independence between categories and missingness.\n",
        "        if df[var].dtype in [np.number, 'float64', 'int64']:  # Check if the variable is numeric\n",
        "            # Perform t-test\n",
        "            group1 = df[df[f'{one}_is_missing'] == 1][var].dropna()\n",
        "            group2 = df[df[f'{one}_is_missing'] == 0][var].dropna()\n",
        "            t_stat, p_value = ttest_ind(group1, group2, equal_var=False)  # Welch's t-test\n",
        "            results[var] = {'test_type': 't-test', 'variable': var, 't_stat': t_stat, 'p_value': p_value}\n",
        "        else:\n",
        "            # Perform chi-squared test\n",
        "            contingency_table = pd.crosstab(df[f'{one}_is_missing'], df[var])\n",
        "            chi2, p_value, _, _ = chi2_contingency(contingency_table)\n",
        "            results[var] = {'test_type': 'chi-squared', 'variable': var, 'chi2_stat': chi2, 'p_value': p_value}"
      ]
    },
    {
      "cell_type": "code",
      "execution_count": null,
      "metadata": {
        "id": "MytR7clWTYzj"
      },
      "outputs": [],
      "source": [
        "def single_variate_drop_duplicates_and_fill_null_vals(df, numerical, dependent, method=\"mean\"):\n",
        "  # drop duplicates\n",
        "  df = df.drop_duplicates()\n",
        "\n",
        "  # if the function is for n in null_columns:\n",
        "  df = df[numerical]\n",
        "  df.fillna(method, inplace=True)\n",
        "  return df"
      ]
    },
    {
      "cell_type": "markdown",
      "metadata": {
        "id": "cpP9MmKTT_yw"
      },
      "source": [
        "Note that we previously fixed the outliers issue so now we can trust the mean value more for missing value imputation"
      ]
    },
    {
      "cell_type": "code",
      "execution_count": null,
      "metadata": {
        "colab": {
          "base_uri": "https://localhost:8080/",
          "height": 424
        },
        "id": "4maSWE5YLr1Z",
        "outputId": "303b9a89-d7ec-40dd-9fee-cbbedf4eca77"
      },
      "outputs": [],
      "source": [
        "df = single_variate_drop_duplicates_and_fill_null_vals(df, numerical, \"churn_risk_score\", method=\"mean\")\n",
        "df"
      ]
    },
    {
      "cell_type": "markdown",
      "metadata": {
        "id": "61GjnyUNL8yR"
      },
      "source": [
        "Some more EDA"
      ]
    },
    {
      "cell_type": "code",
      "execution_count": null,
      "metadata": {
        "id": "ZgeSfLADQzOn"
      },
      "outputs": [],
      "source": [
        "\"\"\"\n",
        "def pivot_tables(df, categorical, index, columns, values):\n",
        "  pivot = df[categorical].drop_duplicates()\\\n",
        "    .assign(price_group=lambda x: pd.cut(x., bins=5))\\\n",
        "    .pivot(index=index, columns=columns, values=values)\n",
        "  return pivot\n",
        "\"\"\""
      ]
    },
    {
      "cell_type": "code",
      "execution_count": null,
      "metadata": {
        "colab": {
          "base_uri": "https://localhost:8080/",
          "height": 238
        },
        "id": "2We-NsKBd7q2",
        "outputId": "bc2b481e-9fb4-406f-9cc5-cc7a93ac5f6e"
      },
      "outputs": [],
      "source": [
        "summary = data.groupby([\"membership_category\"])[\"churn_risk_score\"].mean().reset_index()\n",
        "summary"
      ]
    },
    {
      "cell_type": "code",
      "execution_count": null,
      "metadata": {
        "colab": {
          "base_uri": "https://localhost:8080/"
        },
        "id": "VtMbmgv7GNsr",
        "outputId": "1e25e5d6-df69-4b3f-e9ef-aa7d561a08c5"
      },
      "outputs": [],
      "source": [
        "data.membership_category.unique()"
      ]
    },
    {
      "cell_type": "code",
      "execution_count": null,
      "metadata": {
        "colab": {
          "base_uri": "https://localhost:8080/"
        },
        "id": "Rtv3Zds_ukSy",
        "outputId": "c30f90d0-4cdc-4864-bba8-d0894377c70e"
      },
      "outputs": [],
      "source": [
        "data.avg_frequency_login_days.value_counts()"
      ]
    },
    {
      "cell_type": "code",
      "execution_count": null,
      "metadata": {
        "colab": {
          "base_uri": "https://localhost:8080/"
        },
        "id": "6I4RX4cdvLpU",
        "outputId": "5ebdbaac-34f9-4909-b322-96071137c673"
      },
      "outputs": [],
      "source": [
        "data.avg_frequency_login_days.unique()"
      ]
    },
    {
      "cell_type": "code",
      "execution_count": null,
      "metadata": {
        "colab": {
          "base_uri": "https://localhost:8080/",
          "height": 550
        },
        "id": "x0WoMDdquWIR",
        "outputId": "caea7653-99fc-41ff-a121-80e3f558b994"
      },
      "outputs": [],
      "source": [
        "import missingno as msno\n",
        "msno.matrix(data)"
      ]
    },
    {
      "cell_type": "markdown",
      "metadata": {
        "id": "jIG1d_YoO2q4"
      },
      "source": [
        "#### Summary Tables for Categorical Features"
      ]
    },
    {
      "cell_type": "code",
      "execution_count": null,
      "metadata": {
        "colab": {
          "base_uri": "https://localhost:8080/",
          "height": 143
        },
        "id": "5_y9YCpxt9_f",
        "outputId": "dc72111f-0c07-4a5b-96cb-d858ec03abaa"
      },
      "outputs": [],
      "source": [
        "df = data.groupby(\"gender\")['churn_risk_score'].mean().reset_index()\n",
        "df"
      ]
    },
    {
      "cell_type": "code",
      "execution_count": null,
      "metadata": {
        "colab": {
          "base_uri": "https://localhost:8080/"
        },
        "id": "Ko-bHg_et8Pc",
        "outputId": "19ef70d6-bc7e-457b-9463-639f94e1a46d"
      },
      "outputs": [],
      "source": [
        "data[\"churn_risk_score\"].describe()"
      ]
    },
    {
      "cell_type": "code",
      "execution_count": null,
      "metadata": {
        "colab": {
          "base_uri": "https://localhost:8080/"
        },
        "id": "59xLO_jZvpFW",
        "outputId": "50f2bf00-c0a8-44fa-b2e0-d171c3718a7c"
      },
      "outputs": [],
      "source": [
        "data[\"churn_risk_score\"].dtype"
      ]
    },
    {
      "cell_type": "code",
      "execution_count": null,
      "metadata": {
        "colab": {
          "base_uri": "https://localhost:8080/"
        },
        "id": "sfzUlzpBwDod",
        "outputId": "64ee6604-f458-4bec-bd5c-3c93afa309b2"
      },
      "outputs": [],
      "source": [
        "categorical[categorical!=\"customer_id\"]"
      ]
    },
    {
      "cell_type": "code",
      "execution_count": null,
      "metadata": {
        "id": "dAyun4r8raFG"
      },
      "outputs": [],
      "source": [
        "def group_summary_stats(df, categorical, dependent):\n",
        "    # Check if the dependent column is numeric, convert if necessary\n",
        "    if df[dependent].dtype == 'O':  # Checks if the type is object (commonly used for strings)\n",
        "        df[dependent] = pd.to_numeric(df[dependent], errors='coerce')  # Coerce errors will convert non-convertible values to NaN\n",
        "\n",
        "    # Iterate through each categorical variable and calculate statistics\n",
        "    for i, c in enumerate(categorical):\n",
        "        # Properly using .agg to calculate multiple statistics\n",
        "        report = pd.DataFrame(df.groupby(c)[dependent]).agg(['sum', 'mean', 'median', lambda x: stats.mode(x)[0][0], 'max', 'min']).reset_index()\n",
        "        report.columns = [\"Group\", \"Total\", \"Average\", \"Median\", \"Mode\", \"Maximum\", \"Minimum\"]\n",
        "        print(f\"Report {i+1}:\\n{report}\\n\")"
      ]
    },
    {
      "cell_type": "code",
      "execution_count": null,
      "metadata": {
        "id": "hGSGPgDPthbG"
      },
      "outputs": [],
      "source": [
        "data"
      ]
    },
    {
      "cell_type": "code",
      "execution_count": null,
      "metadata": {
        "id": "LJYBEA--wvnP"
      },
      "outputs": [],
      "source": [
        "for c in categorical:\n",
        "  df = data.groupby(c)['churn_risk_score'].mean().reset_index()\n",
        "  df"
      ]
    },
    {
      "cell_type": "code",
      "execution_count": null,
      "metadata": {
        "id": "YQoajXD7ra2T"
      },
      "outputs": [],
      "source": [
        "# group_summary_stats(data.loc[:, [i for i in categorical if i !=\"customer_id\"]], [i for i in categorical if i !=\"customer_id\"], \"churn_risk_score\")"
      ]
    },
    {
      "cell_type": "markdown",
      "metadata": {
        "id": "wf0zkVGCO7XZ"
      },
      "source": [
        "Do the same for other columns"
      ]
    },
    {
      "cell_type": "code",
      "execution_count": null,
      "metadata": {
        "id": "zcH0Oif2yU7S"
      },
      "outputs": [],
      "source": []
    },
    {
      "cell_type": "markdown",
      "metadata": {
        "id": "ku-UX_G7Gft3"
      },
      "source": [
        "Model Building"
      ]
    },
    {
      "cell_type": "code",
      "execution_count": null,
      "metadata": {
        "colab": {
          "base_uri": "https://localhost:8080/"
        },
        "id": "61p_BimLH0wd",
        "outputId": "b943a288-3a44-4748-ee84-fdc15b15d41f"
      },
      "outputs": [],
      "source": [
        "import pandas as pd\n",
        "from sklearn.model_selection import train_test_split\n",
        "from sklearn.tree import DecisionTreeClassifier\n",
        "from sklearn.metrics import classification_report, accuracy_score\n",
        "\n",
        "# Assuming df is your DataFrame and 'target' is the column with the labels\n",
        "\n",
        "# Prepare Data\n",
        "x = df.drop('churn_risk_score', axis=1)  # Removes the target column, keeps all others\n",
        "y = df['churn_risk_score']\n",
        "x_train, x_val, y_train, y_val = train_test_split(x, y, test_size=0.25, random_state=42)\n",
        "\n",
        "# Build Decision Tree Model\n",
        "dt_classifier = DecisionTreeClassifier(random_state=42)\n",
        "dt_classifier.fit(x_train, y_train)\n",
        "\n",
        "# Evaluate the Model\n",
        "y_pred = dt_classifier.predict(x_val)\n",
        "print(classification_report(y_val, y_pred))\n",
        "print(\"Accuracy:\", accuracy_score(y_val, y_pred))"
      ]
    },
    {
      "cell_type": "markdown",
      "metadata": {
        "id": "jv2VEtske8cl"
      },
      "source": [
        "https://towardsdatascience.com/decision-trees-explained-entropy-information-gain-gini-index-ccp-pruning-4d78070db36c"
      ]
    },
    {
      "cell_type": "code",
      "execution_count": null,
      "metadata": {
        "id": "RMD5vRk0e8qp"
      },
      "outputs": [],
      "source": []
    }
  ],
  "metadata": {
    "colab": {
      "provenance": []
    },
    "kernelspec": {
      "display_name": "Python 3",
      "name": "python3"
    },
    "language_info": {
      "codemirror_mode": {
        "name": "ipython",
        "version": 3
      },
      "file_extension": ".py",
      "mimetype": "text/x-python",
      "name": "python",
      "nbconvert_exporter": "python",
      "pygments_lexer": "ipython3",
      "version": "3.10.12"
    }
  },
  "nbformat": 4,
  "nbformat_minor": 0
}
